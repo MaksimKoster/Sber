{
 "cells": [
  {
   "cell_type": "code",
   "execution_count": 1,
   "id": "a7dca04b",
   "metadata": {},
   "outputs": [],
   "source": [
    "import pandas as pd\n",
    "import seaborn as sns\n",
    "import numpy as np\n",
    "from sklearn import preprocessing\n",
    "import datetime\n",
    "from matplotlib import pyplot as plt\n",
    "from scipy. stats import pearsonr\n",
    "from sklearn.preprocessing import StandardScaler\n",
    "from sklearn.utils import shuffle\n",
    "\n",
    "import warnings\n",
    "warnings.filterwarnings(\"ignore\")"
   ]
  },
  {
   "cell_type": "markdown",
   "id": "eaf0937c",
   "metadata": {},
   "source": [
    "# Чтение"
   ]
  },
  {
   "cell_type": "code",
   "execution_count": 2,
   "id": "ec47e7ee",
   "metadata": {},
   "outputs": [],
   "source": [
    "df_test_analysis = pd.read_csv(\"../data/raw/diabetes_test_analysis.csv\")\n",
    "df_test_info = pd.read_csv(\"../data/raw/diabetes_test_info.csv\")\n",
    "\n",
    "df_train_analysis = pd.read_csv(\"../data/raw/diabetes_train_analysis.csv\")\n",
    "df_train_info = pd.read_csv(\"../data/raw/diabetes_train_info.csv\")"
   ]
  },
  {
   "cell_type": "markdown",
   "id": "81b3e309",
   "metadata": {},
   "source": [
    "# Проверка на дубли"
   ]
  },
  {
   "cell_type": "code",
   "execution_count": 3,
   "id": "f70f7264",
   "metadata": {},
   "outputs": [
    {
     "name": "stdout",
     "output_type": "stream",
     "text": [
      "Дубли df_test_analysis: 0\n",
      "Дубли df_test_info: 0\n",
      "Дубли df_train_analysis: 0\n",
      "Дубли df_train_info: 0\n"
     ]
    }
   ],
   "source": [
    "print(f'Дубли df_test_analysis: {df_test_analysis.duplicated().sum()}')\n",
    "print(f'Дубли df_test_info: {df_test_info.duplicated().sum()}')\n",
    "\n",
    "print(f'Дубли df_train_analysis: {df_train_analysis.duplicated().sum()}')\n",
    "print(f'Дубли df_train_info: {df_train_info.duplicated().sum()}')"
   ]
  },
  {
   "cell_type": "markdown",
   "id": "d8f79abe",
   "metadata": {},
   "source": [
    "# Проверка на наличие всех id для merge\n"
   ]
  },
  {
   "cell_type": "code",
   "execution_count": 4,
   "id": "3f37452c",
   "metadata": {},
   "outputs": [
    {
     "name": "stdout",
     "output_type": "stream",
     "text": [
      "(10000, 9)\n",
      "(10000, 5)\n"
     ]
    }
   ],
   "source": [
    "print(df_test_analysis.shape)\n",
    "print(df_test_info.shape)"
   ]
  },
  {
   "cell_type": "code",
   "execution_count": 5,
   "id": "bbd4d571",
   "metadata": {},
   "outputs": [
    {
     "name": "stdout",
     "output_type": "stream",
     "text": [
      "(60000, 9)\n",
      "(60000, 5)\n"
     ]
    }
   ],
   "source": [
    "print(df_train_analysis.shape)\n",
    "print(df_train_info.shape)"
   ]
  },
  {
   "cell_type": "code",
   "execution_count": 6,
   "id": "61e0c813",
   "metadata": {},
   "outputs": [],
   "source": [
    "df_test = pd.merge(df_test_analysis, df_test_info, on=\"id\")\n",
    "df_train = pd.merge(df_train_analysis, df_train_info, on=\"id\")"
   ]
  },
  {
   "cell_type": "code",
   "execution_count": 7,
   "id": "6a333929",
   "metadata": {},
   "outputs": [
    {
     "name": "stdout",
     "output_type": "stream",
     "text": [
      "(10000, 13)\n",
      "(60000, 13)\n"
     ]
    }
   ],
   "source": [
    "print(df_test.shape)\n",
    "print(df_train.shape)"
   ]
  },
  {
   "cell_type": "markdown",
   "id": "cf93c518",
   "metadata": {},
   "source": [
    "#   Анализ features"
   ]
  },
  {
   "cell_type": "code",
   "execution_count": 8,
   "id": "d736946d",
   "metadata": {
    "scrolled": true
   },
   "outputs": [
    {
     "data": {
      "text/html": [
       "<div>\n",
       "<style scoped>\n",
       "    .dataframe tbody tr th:only-of-type {\n",
       "        vertical-align: middle;\n",
       "    }\n",
       "\n",
       "    .dataframe tbody tr th {\n",
       "        vertical-align: top;\n",
       "    }\n",
       "\n",
       "    .dataframe thead th {\n",
       "        text-align: right;\n",
       "    }\n",
       "</style>\n",
       "<table border=\"1\" class=\"dataframe\">\n",
       "  <thead>\n",
       "    <tr style=\"text-align: right;\">\n",
       "      <th></th>\n",
       "      <th>id</th>\n",
       "      <th>cholesterol</th>\n",
       "      <th>gluc</th>\n",
       "      <th>smoke</th>\n",
       "      <th>alco</th>\n",
       "      <th>active</th>\n",
       "      <th>pressure</th>\n",
       "      <th>diabetes</th>\n",
       "      <th>ket</th>\n",
       "      <th>age</th>\n",
       "      <th>height</th>\n",
       "      <th>weight</th>\n",
       "      <th>gender</th>\n",
       "    </tr>\n",
       "  </thead>\n",
       "  <tbody>\n",
       "    <tr>\n",
       "      <th>0</th>\n",
       "      <td>62538</td>\n",
       "      <td>low</td>\n",
       "      <td>low</td>\n",
       "      <td>0</td>\n",
       "      <td>0</td>\n",
       "      <td>1</td>\n",
       "      <td>100/80</td>\n",
       "      <td>0</td>\n",
       "      <td>5.92</td>\n",
       "      <td>54</td>\n",
       "      <td>169</td>\n",
       "      <td>76.0</td>\n",
       "      <td>f</td>\n",
       "    </tr>\n",
       "    <tr>\n",
       "      <th>1</th>\n",
       "      <td>49159</td>\n",
       "      <td>low</td>\n",
       "      <td>low</td>\n",
       "      <td>0</td>\n",
       "      <td>0</td>\n",
       "      <td>1</td>\n",
       "      <td>120/82</td>\n",
       "      <td>0</td>\n",
       "      <td>3.82</td>\n",
       "      <td>49</td>\n",
       "      <td>165</td>\n",
       "      <td>65.0</td>\n",
       "      <td>m</td>\n",
       "    </tr>\n",
       "    <tr>\n",
       "      <th>2</th>\n",
       "      <td>60683</td>\n",
       "      <td>low</td>\n",
       "      <td>low</td>\n",
       "      <td>0</td>\n",
       "      <td>0</td>\n",
       "      <td>1</td>\n",
       "      <td>120/80</td>\n",
       "      <td>0</td>\n",
       "      <td>5.05</td>\n",
       "      <td>21962</td>\n",
       "      <td>170</td>\n",
       "      <td>56.0</td>\n",
       "      <td>m</td>\n",
       "    </tr>\n",
       "    <tr>\n",
       "      <th>3</th>\n",
       "      <td>42924</td>\n",
       "      <td>low</td>\n",
       "      <td>low</td>\n",
       "      <td>0</td>\n",
       "      <td>0</td>\n",
       "      <td>0</td>\n",
       "      <td>120\\80</td>\n",
       "      <td>0</td>\n",
       "      <td>3.43</td>\n",
       "      <td>20287</td>\n",
       "      <td>169</td>\n",
       "      <td>62.0</td>\n",
       "      <td>m</td>\n",
       "    </tr>\n",
       "    <tr>\n",
       "      <th>4</th>\n",
       "      <td>52888</td>\n",
       "      <td>low</td>\n",
       "      <td>low</td>\n",
       "      <td>0</td>\n",
       "      <td>0</td>\n",
       "      <td>0</td>\n",
       "      <td>120/80</td>\n",
       "      <td>0</td>\n",
       "      <td>4.99</td>\n",
       "      <td>16202</td>\n",
       "      <td>166</td>\n",
       "      <td>67.0</td>\n",
       "      <td>male</td>\n",
       "    </tr>\n",
       "  </tbody>\n",
       "</table>\n",
       "</div>"
      ],
      "text/plain": [
       "      id cholesterol gluc  smoke  alco  active pressure  diabetes   ket  \\\n",
       "0  62538         low  low      0     0       1   100/80         0  5.92   \n",
       "1  49159         low  low      0     0       1   120/82         0  3.82   \n",
       "2  60683         low  low      0     0       1   120/80         0  5.05   \n",
       "3  42924         low  low      0     0       0   120\\80         0  3.43   \n",
       "4  52888         low  low      0     0       0   120/80         0  4.99   \n",
       "\n",
       "     age  height  weight gender  \n",
       "0     54     169    76.0      f  \n",
       "1     49     165    65.0      m  \n",
       "2  21962     170    56.0      m  \n",
       "3  20287     169    62.0      m  \n",
       "4  16202     166    67.0   male  "
      ]
     },
     "execution_count": 8,
     "metadata": {},
     "output_type": "execute_result"
    }
   ],
   "source": [
    "df_train.head()"
   ]
  },
  {
   "cell_type": "code",
   "execution_count": 9,
   "id": "382c502d",
   "metadata": {},
   "outputs": [
    {
     "data": {
      "text/html": [
       "<div>\n",
       "<style scoped>\n",
       "    .dataframe tbody tr th:only-of-type {\n",
       "        vertical-align: middle;\n",
       "    }\n",
       "\n",
       "    .dataframe tbody tr th {\n",
       "        vertical-align: top;\n",
       "    }\n",
       "\n",
       "    .dataframe thead th {\n",
       "        text-align: right;\n",
       "    }\n",
       "</style>\n",
       "<table border=\"1\" class=\"dataframe\">\n",
       "  <thead>\n",
       "    <tr style=\"text-align: right;\">\n",
       "      <th></th>\n",
       "      <th>id</th>\n",
       "      <th>cholesterol</th>\n",
       "      <th>gluc</th>\n",
       "      <th>smoke</th>\n",
       "      <th>alco</th>\n",
       "      <th>active</th>\n",
       "      <th>pressure</th>\n",
       "      <th>diabetes</th>\n",
       "      <th>ket</th>\n",
       "      <th>age</th>\n",
       "      <th>height</th>\n",
       "      <th>weight</th>\n",
       "      <th>gender</th>\n",
       "    </tr>\n",
       "  </thead>\n",
       "  <tbody>\n",
       "    <tr>\n",
       "      <th>0</th>\n",
       "      <td>95306</td>\n",
       "      <td>low</td>\n",
       "      <td>medium</td>\n",
       "      <td>0</td>\n",
       "      <td>0</td>\n",
       "      <td>0</td>\n",
       "      <td>120/80</td>\n",
       "      <td>1</td>\n",
       "      <td>4.86</td>\n",
       "      <td>61</td>\n",
       "      <td>165</td>\n",
       "      <td>90.0</td>\n",
       "      <td>f</td>\n",
       "    </tr>\n",
       "    <tr>\n",
       "      <th>1</th>\n",
       "      <td>86688</td>\n",
       "      <td>low</td>\n",
       "      <td>low</td>\n",
       "      <td>0</td>\n",
       "      <td>0</td>\n",
       "      <td>1</td>\n",
       "      <td>100\\70</td>\n",
       "      <td>0</td>\n",
       "      <td>4.89</td>\n",
       "      <td>14582</td>\n",
       "      <td>162</td>\n",
       "      <td>50.0</td>\n",
       "      <td>m</td>\n",
       "    </tr>\n",
       "    <tr>\n",
       "      <th>2</th>\n",
       "      <td>98038</td>\n",
       "      <td>low</td>\n",
       "      <td>low</td>\n",
       "      <td>0</td>\n",
       "      <td>0</td>\n",
       "      <td>0</td>\n",
       "      <td>140/100</td>\n",
       "      <td>1</td>\n",
       "      <td>3.91</td>\n",
       "      <td>23389</td>\n",
       "      <td>156</td>\n",
       "      <td>74.0</td>\n",
       "      <td>m</td>\n",
       "    </tr>\n",
       "    <tr>\n",
       "      <th>3</th>\n",
       "      <td>88694</td>\n",
       "      <td>low</td>\n",
       "      <td>low</td>\n",
       "      <td>0</td>\n",
       "      <td>0</td>\n",
       "      <td>1</td>\n",
       "      <td>120\\90</td>\n",
       "      <td>0</td>\n",
       "      <td>4.05</td>\n",
       "      <td>47</td>\n",
       "      <td>162</td>\n",
       "      <td>89.0</td>\n",
       "      <td>m</td>\n",
       "    </tr>\n",
       "    <tr>\n",
       "      <th>4</th>\n",
       "      <td>92856</td>\n",
       "      <td>low</td>\n",
       "      <td>low</td>\n",
       "      <td>0</td>\n",
       "      <td>0</td>\n",
       "      <td>0</td>\n",
       "      <td>130\\80</td>\n",
       "      <td>0</td>\n",
       "      <td>5.35</td>\n",
       "      <td>18388</td>\n",
       "      <td>162</td>\n",
       "      <td>72.0</td>\n",
       "      <td>f</td>\n",
       "    </tr>\n",
       "  </tbody>\n",
       "</table>\n",
       "</div>"
      ],
      "text/plain": [
       "      id cholesterol    gluc  smoke  alco  active pressure  diabetes   ket  \\\n",
       "0  95306         low  medium      0     0       0   120/80         1  4.86   \n",
       "1  86688         low     low      0     0       1   100\\70         0  4.89   \n",
       "2  98038         low     low      0     0       0  140/100         1  3.91   \n",
       "3  88694         low     low      0     0       1   120\\90         0  4.05   \n",
       "4  92856         low     low      0     0       0   130\\80         0  5.35   \n",
       "\n",
       "     age  height  weight gender  \n",
       "0     61     165    90.0      f  \n",
       "1  14582     162    50.0      m  \n",
       "2  23389     156    74.0      m  \n",
       "3     47     162    89.0      m  \n",
       "4  18388     162    72.0      f  "
      ]
     },
     "execution_count": 9,
     "metadata": {},
     "output_type": "execute_result"
    }
   ],
   "source": [
    "df_test.head()"
   ]
  },
  {
   "cell_type": "code",
   "execution_count": 10,
   "id": "429cda31",
   "metadata": {},
   "outputs": [
    {
     "data": {
      "text/plain": [
       "id               int64\n",
       "cholesterol     object\n",
       "gluc            object\n",
       "smoke            int64\n",
       "alco             int64\n",
       "active           int64\n",
       "pressure        object\n",
       "diabetes         int64\n",
       "ket            float64\n",
       "age              int64\n",
       "height           int64\n",
       "weight         float64\n",
       "gender          object\n",
       "dtype: object"
      ]
     },
     "execution_count": 10,
     "metadata": {},
     "output_type": "execute_result"
    }
   ],
   "source": [
    "df_train.dtypes"
   ]
  },
  {
   "cell_type": "code",
   "execution_count": 11,
   "id": "7727d2c8",
   "metadata": {},
   "outputs": [
    {
     "data": {
      "text/plain": [
       "id               int64\n",
       "cholesterol     object\n",
       "gluc            object\n",
       "smoke            int64\n",
       "alco             int64\n",
       "active           int64\n",
       "pressure        object\n",
       "diabetes         int64\n",
       "ket            float64\n",
       "age              int64\n",
       "height           int64\n",
       "weight         float64\n",
       "gender          object\n",
       "dtype: object"
      ]
     },
     "execution_count": 11,
     "metadata": {},
     "output_type": "execute_result"
    }
   ],
   "source": [
    "df_test.dtypes"
   ]
  },
  {
   "cell_type": "markdown",
   "id": "f94661b9",
   "metadata": {},
   "source": [
    "- `id` — индекс строки в данных\n",
    "- `сholesterol` — показатель холестерина в крови\n",
    "- `gluc` — показатель глюкозы в крови\n",
    "- `smoke` — курит или нет\n",
    "- `alco` — употребляет алкоголь или нет\n",
    "- `active` — активный или пассивный образ жизни\n",
    "- `pressure` — возраст\n",
    "- `ket` — медицинский показатель про кетоновые тела\n",
    "- `age` — возраст\n",
    "- `height` — рост (см)\n",
    "- `weight` — вес (кг)\n",
    "- `gender` — пол\n",
    "\n",
    "**Целевым признаком является столбец `diabetes` — факт диабета**"
   ]
  },
  {
   "cell_type": "code",
   "execution_count": 12,
   "id": "10f753cb",
   "metadata": {},
   "outputs": [],
   "source": [
    "def show_category_plot_count(data_df, column):\n",
    "    plt.title(f'Распределение фичи - {column}')\n",
    "    sns.countplot(data=data_df, x=column)\n",
    "    plt.ylabel('Количество наблюдения')\n",
    "    plt.xlabel('Значение фактора')\n",
    "    plt.show()"
   ]
  },
  {
   "cell_type": "code",
   "execution_count": 13,
   "id": "7757de9d",
   "metadata": {},
   "outputs": [
    {
     "data": {
      "image/png": "[encoded data removed]",
      "text/plain": [
       "<Figure size 640x480 with 1 Axes>"
      ]
     },
     "metadata": {},
     "output_type": "display_data"
    },
    {
     "data": {
      "image/png": "[encoded data removed]",
      "text/plain": [
       "<Figure size 640x480 with 1 Axes>"
      ]
     },
     "metadata": {},
     "output_type": "display_data"
    },
    {
     "data": {
      "image/png": "[encoded data removed]",
      "text/plain": [
       "<Figure size 640x480 with 1 Axes>"
      ]
     },
     "metadata": {},
     "output_type": "display_data"
    }
   ],
   "source": [
    "show_category_plot_count(df_train, 'cholesterol')\n",
    "show_category_plot_count(df_train, 'gluc')\n",
    "show_category_plot_count(df_train, 'active')"
   ]
  },
  {
   "cell_type": "code",
   "execution_count": 14,
   "id": "3205051c",
   "metadata": {},
   "outputs": [],
   "source": [
    "def show_category_plot_count_hue_target(df, column):\n",
    "    plt.title(f'Распределение фичи - {column}')\n",
    "    sns.countplot(data=df, x=column, hue='diabetes')\n",
    "    plt.ylabel('Количество наблюдения')\n",
    "    plt.xlabel(f'Значение фактора')\n",
    "    plt.show()"
   ]
  },
  {
   "cell_type": "code",
   "execution_count": 15,
   "id": "8481a125",
   "metadata": {},
   "outputs": [
    {
     "data": {
      "image/png": "[encoded data removed]",
      "text/plain": [
       "<Figure size 640x480 with 1 Axes>"
      ]
     },
     "metadata": {},
     "output_type": "display_data"
    },
    {
     "data": {
      "image/png": "[encoded data removed]",
      "text/plain": [
       "<Figure size 640x480 with 1 Axes>"
      ]
     },
     "metadata": {},
     "output_type": "display_data"
    },
    {
     "data": {
      "image/png": "[encoded data removed]",
      "text/plain": [
       "<Figure size 640x480 with 1 Axes>"
      ]
     },
     "metadata": {},
     "output_type": "display_data"
    }
   ],
   "source": [
    "show_category_plot_count_hue_target(df_train, 'cholesterol')\n",
    "show_category_plot_count_hue_target(df_train, 'active')\n",
    "show_category_plot_count_hue_target(df_train, 'gluc')"
   ]
  },
  {
   "cell_type": "code",
   "execution_count": 16,
   "id": "3f6b73d7",
   "metadata": {},
   "outputs": [
    {
     "data": {
      "text/plain": [
       "cholesterol\n",
       "low            44914\n",
       "medium          8218\n",
       "high            6868\n",
       "dtype: int64"
      ]
     },
     "execution_count": 16,
     "metadata": {},
     "output_type": "execute_result"
    }
   ],
   "source": [
    "df_train[['cholesterol']].value_counts()"
   ]
  },
  {
   "cell_type": "markdown",
   "id": "a7fa7814",
   "metadata": {},
   "source": [
    "# Проверка на пропуски"
   ]
  },
  {
   "cell_type": "code",
   "execution_count": 17,
   "id": "7f82c68a",
   "metadata": {},
   "outputs": [
    {
     "name": "stdout",
     "output_type": "stream",
     "text": [
      "id                0\n",
      "cholesterol       0\n",
      "gluc              0\n",
      "smoke             0\n",
      "alco              0\n",
      "active            0\n",
      "pressure          0\n",
      "diabetes          0\n",
      "ket               0\n",
      "age               0\n",
      "height            0\n",
      "weight         1998\n",
      "gender            0\n",
      "dtype: int64\n",
      "\n",
      "id               0\n",
      "cholesterol      0\n",
      "gluc             0\n",
      "smoke            0\n",
      "alco             0\n",
      "active           0\n",
      "pressure         0\n",
      "diabetes         0\n",
      "ket              0\n",
      "age              0\n",
      "height           0\n",
      "weight         320\n",
      "gender           0\n",
      "dtype: int64\n"
     ]
    }
   ],
   "source": [
    "print(df_train.isna().sum())\n",
    "print()\n",
    "print(df_test.isna().sum())"
   ]
  },
  {
   "cell_type": "markdown",
   "id": "d772e748",
   "metadata": {},
   "source": [
    "Заполним пропуски констанстным значением = -100 -> нет значения"
   ]
  },
  {
   "cell_type": "code",
   "execution_count": 18,
   "id": "0010e325",
   "metadata": {},
   "outputs": [],
   "source": [
    "weight_na_const = -100"
   ]
  },
  {
   "cell_type": "code",
   "execution_count": 19,
   "id": "a612efeb",
   "metadata": {},
   "outputs": [],
   "source": [
    "df_train['weight'].fillna(weight_na_const, inplace=True)\n",
    "df_test['weight'].fillna(weight_na_const, inplace=True)\n",
    "\n",
    "df_train_no_weight = df_train[df_train['weight'] == weight_na_const]\n",
    "df_test_no_weight = df_test[df_test['weight'] == weight_na_const]\n",
    " \n",
    "df_train.drop(df_train_no_weight.index, inplace = True)\n",
    "df_test.drop(df_test_no_weight.index, inplace = True)"
   ]
  },
  {
   "cell_type": "markdown",
   "id": "077f367a",
   "metadata": {},
   "source": [
    "- **!df_train_no_weight!** - может использоваться для модели, где нет веса\n",
    "- **!df_test_no_weight!** - может использоваться для модели, где нет веса"
   ]
  },
  {
   "cell_type": "markdown",
   "id": "fb9aa73e",
   "metadata": {},
   "source": [
    "Колонка `id` не несет смысла смысловой нагрузки - спокойно удаляем"
   ]
  },
  {
   "cell_type": "code",
   "execution_count": 20,
   "id": "51b7139a",
   "metadata": {},
   "outputs": [],
   "source": [
    "df_train = df_train.drop(['id'], axis=1)\n",
    "df_test = df_test.drop(['id'], axis=1)"
   ]
  },
  {
   "cell_type": "code",
   "execution_count": 21,
   "id": "63726036",
   "metadata": {},
   "outputs": [
    {
     "data": {
      "text/html": [
       "<div>\n",
       "<style scoped>\n",
       "    .dataframe tbody tr th:only-of-type {\n",
       "        vertical-align: middle;\n",
       "    }\n",
       "\n",
       "    .dataframe tbody tr th {\n",
       "        vertical-align: top;\n",
       "    }\n",
       "\n",
       "    .dataframe thead th {\n",
       "        text-align: right;\n",
       "    }\n",
       "</style>\n",
       "<table border=\"1\" class=\"dataframe\">\n",
       "  <thead>\n",
       "    <tr style=\"text-align: right;\">\n",
       "      <th></th>\n",
       "      <th>cholesterol</th>\n",
       "      <th>gluc</th>\n",
       "      <th>smoke</th>\n",
       "      <th>alco</th>\n",
       "      <th>active</th>\n",
       "      <th>pressure</th>\n",
       "      <th>diabetes</th>\n",
       "      <th>ket</th>\n",
       "      <th>age</th>\n",
       "      <th>height</th>\n",
       "      <th>weight</th>\n",
       "      <th>gender</th>\n",
       "    </tr>\n",
       "  </thead>\n",
       "  <tbody>\n",
       "    <tr>\n",
       "      <th>0</th>\n",
       "      <td>low</td>\n",
       "      <td>low</td>\n",
       "      <td>0</td>\n",
       "      <td>0</td>\n",
       "      <td>1</td>\n",
       "      <td>100/80</td>\n",
       "      <td>0</td>\n",
       "      <td>5.92</td>\n",
       "      <td>54</td>\n",
       "      <td>169</td>\n",
       "      <td>76.0</td>\n",
       "      <td>f</td>\n",
       "    </tr>\n",
       "    <tr>\n",
       "      <th>1</th>\n",
       "      <td>low</td>\n",
       "      <td>low</td>\n",
       "      <td>0</td>\n",
       "      <td>0</td>\n",
       "      <td>1</td>\n",
       "      <td>120/82</td>\n",
       "      <td>0</td>\n",
       "      <td>3.82</td>\n",
       "      <td>49</td>\n",
       "      <td>165</td>\n",
       "      <td>65.0</td>\n",
       "      <td>m</td>\n",
       "    </tr>\n",
       "    <tr>\n",
       "      <th>2</th>\n",
       "      <td>low</td>\n",
       "      <td>low</td>\n",
       "      <td>0</td>\n",
       "      <td>0</td>\n",
       "      <td>1</td>\n",
       "      <td>120/80</td>\n",
       "      <td>0</td>\n",
       "      <td>5.05</td>\n",
       "      <td>21962</td>\n",
       "      <td>170</td>\n",
       "      <td>56.0</td>\n",
       "      <td>m</td>\n",
       "    </tr>\n",
       "    <tr>\n",
       "      <th>3</th>\n",
       "      <td>low</td>\n",
       "      <td>low</td>\n",
       "      <td>0</td>\n",
       "      <td>0</td>\n",
       "      <td>0</td>\n",
       "      <td>120\\80</td>\n",
       "      <td>0</td>\n",
       "      <td>3.43</td>\n",
       "      <td>20287</td>\n",
       "      <td>169</td>\n",
       "      <td>62.0</td>\n",
       "      <td>m</td>\n",
       "    </tr>\n",
       "    <tr>\n",
       "      <th>4</th>\n",
       "      <td>low</td>\n",
       "      <td>low</td>\n",
       "      <td>0</td>\n",
       "      <td>0</td>\n",
       "      <td>0</td>\n",
       "      <td>120/80</td>\n",
       "      <td>0</td>\n",
       "      <td>4.99</td>\n",
       "      <td>16202</td>\n",
       "      <td>166</td>\n",
       "      <td>67.0</td>\n",
       "      <td>male</td>\n",
       "    </tr>\n",
       "  </tbody>\n",
       "</table>\n",
       "</div>"
      ],
      "text/plain": [
       "  cholesterol gluc  smoke  alco  active pressure  diabetes   ket    age  \\\n",
       "0         low  low      0     0       1   100/80         0  5.92     54   \n",
       "1         low  low      0     0       1   120/82         0  3.82     49   \n",
       "2         low  low      0     0       1   120/80         0  5.05  21962   \n",
       "3         low  low      0     0       0   120\\80         0  3.43  20287   \n",
       "4         low  low      0     0       0   120/80         0  4.99  16202   \n",
       "\n",
       "   height  weight gender  \n",
       "0     169    76.0      f  \n",
       "1     165    65.0      m  \n",
       "2     170    56.0      m  \n",
       "3     169    62.0      m  \n",
       "4     166    67.0   male  "
      ]
     },
     "execution_count": 21,
     "metadata": {},
     "output_type": "execute_result"
    }
   ],
   "source": [
    "df_train.head()"
   ]
  },
  {
   "cell_type": "markdown",
   "id": "7ed520b9",
   "metadata": {},
   "source": [
    "- Проверим колонки `сholesterol`, `gluc`, `smoke`, `alco`, `active`, `gender`"
   ]
  },
  {
   "cell_type": "code",
   "execution_count": 22,
   "id": "7ea8b612",
   "metadata": {},
   "outputs": [],
   "source": [
    "category_features = ['cholesterol', 'gluc', 'smoke', 'alco', 'active', 'gender']"
   ]
  },
  {
   "cell_type": "code",
   "execution_count": 23,
   "id": "74650bce",
   "metadata": {},
   "outputs": [
    {
     "name": "stdout",
     "output_type": "stream",
     "text": [
      "cholesterol ['low' 'medium' 'high']\n",
      "gluc ['low' 'medium' 'high']\n",
      "smoke [0 1]\n",
      "alco [0 1]\n",
      "active [1 0]\n",
      "gender ['f' 'm' 'male' 'female']\n"
     ]
    }
   ],
   "source": [
    "for feature in category_features:\n",
    "    print(feature ,df_train[feature].unique())"
   ]
  },
  {
   "cell_type": "code",
   "execution_count": 24,
   "id": "b628af18",
   "metadata": {},
   "outputs": [
    {
     "name": "stdout",
     "output_type": "stream",
     "text": [
      "cholesterol ['low' 'high' 'medium']\n",
      "gluc ['medium' 'low' 'high']\n",
      "smoke [0 1]\n",
      "alco [0 1]\n",
      "active [0 1]\n",
      "gender ['f' 'm' 'female' 'male']\n"
     ]
    }
   ],
   "source": [
    "for feature in category_features:\n",
    "    print(feature ,df_test[feature].unique())"
   ]
  },
  {
   "cell_type": "markdown",
   "id": "adaba26c",
   "metadata": {},
   "source": [
    "- Закодируем поле `gender` без сохранения порядка"
   ]
  },
  {
   "cell_type": "code",
   "execution_count": 25,
   "id": "c194fa60",
   "metadata": {},
   "outputs": [],
   "source": [
    "df_train.loc[df_train.gender.isin(['female', 'f']), 'gender'] = 0\n",
    "df_train.loc[df_train.gender.isin(['male', 'm']), 'gender'] = 1\n",
    "df_train['gender'] = df_train['gender'].astype(int)\n",
    "\n",
    "df_test.loc[df_test.gender.isin(['female', 'f']), 'gender'] = 0\n",
    "df_test.loc[df_test.gender.isin(['male', 'm']), 'gender'] = 1\n",
    "df_test['gender'] = df_test['gender'].astype(int)"
   ]
  },
  {
   "cell_type": "markdown",
   "id": "85cb0454",
   "metadata": {},
   "source": [
    "- Закодируем поля `gluc`, `cholesterol` с сохранением их порядка"
   ]
  },
  {
   "cell_type": "code",
   "execution_count": 26,
   "id": "70043197",
   "metadata": {},
   "outputs": [],
   "source": [
    "cholesterol_gluc_enc_dict = {'low':0, 'medium':1, 'high':2}"
   ]
  },
  {
   "cell_type": "code",
   "execution_count": 27,
   "id": "1ef7f070",
   "metadata": {},
   "outputs": [],
   "source": [
    "df_train['cholesterol'].replace(cholesterol_gluc_enc_dict, inplace=True)\n",
    "df_train['gluc'].replace(cholesterol_gluc_enc_dict, inplace=True)\n",
    "\n",
    "df_test['cholesterol'].replace(cholesterol_gluc_enc_dict, inplace=True)\n",
    "df_test['gluc'].replace(cholesterol_gluc_enc_dict, inplace=True)"
   ]
  },
  {
   "cell_type": "code",
   "execution_count": 28,
   "id": "151b3dc3",
   "metadata": {},
   "outputs": [
    {
     "data": {
      "text/html": [
       "<div>\n",
       "<style scoped>\n",
       "    .dataframe tbody tr th:only-of-type {\n",
       "        vertical-align: middle;\n",
       "    }\n",
       "\n",
       "    .dataframe tbody tr th {\n",
       "        vertical-align: top;\n",
       "    }\n",
       "\n",
       "    .dataframe thead th {\n",
       "        text-align: right;\n",
       "    }\n",
       "</style>\n",
       "<table border=\"1\" class=\"dataframe\">\n",
       "  <thead>\n",
       "    <tr style=\"text-align: right;\">\n",
       "      <th></th>\n",
       "      <th>cholesterol</th>\n",
       "      <th>gluc</th>\n",
       "      <th>smoke</th>\n",
       "      <th>alco</th>\n",
       "      <th>active</th>\n",
       "      <th>pressure</th>\n",
       "      <th>diabetes</th>\n",
       "      <th>ket</th>\n",
       "      <th>age</th>\n",
       "      <th>height</th>\n",
       "      <th>weight</th>\n",
       "      <th>gender</th>\n",
       "    </tr>\n",
       "  </thead>\n",
       "  <tbody>\n",
       "    <tr>\n",
       "      <th>0</th>\n",
       "      <td>0</td>\n",
       "      <td>0</td>\n",
       "      <td>0</td>\n",
       "      <td>0</td>\n",
       "      <td>1</td>\n",
       "      <td>100/80</td>\n",
       "      <td>0</td>\n",
       "      <td>5.92</td>\n",
       "      <td>54</td>\n",
       "      <td>169</td>\n",
       "      <td>76.0</td>\n",
       "      <td>0</td>\n",
       "    </tr>\n",
       "    <tr>\n",
       "      <th>1</th>\n",
       "      <td>0</td>\n",
       "      <td>0</td>\n",
       "      <td>0</td>\n",
       "      <td>0</td>\n",
       "      <td>1</td>\n",
       "      <td>120/82</td>\n",
       "      <td>0</td>\n",
       "      <td>3.82</td>\n",
       "      <td>49</td>\n",
       "      <td>165</td>\n",
       "      <td>65.0</td>\n",
       "      <td>1</td>\n",
       "    </tr>\n",
       "    <tr>\n",
       "      <th>2</th>\n",
       "      <td>0</td>\n",
       "      <td>0</td>\n",
       "      <td>0</td>\n",
       "      <td>0</td>\n",
       "      <td>1</td>\n",
       "      <td>120/80</td>\n",
       "      <td>0</td>\n",
       "      <td>5.05</td>\n",
       "      <td>21962</td>\n",
       "      <td>170</td>\n",
       "      <td>56.0</td>\n",
       "      <td>1</td>\n",
       "    </tr>\n",
       "    <tr>\n",
       "      <th>3</th>\n",
       "      <td>0</td>\n",
       "      <td>0</td>\n",
       "      <td>0</td>\n",
       "      <td>0</td>\n",
       "      <td>0</td>\n",
       "      <td>120\\80</td>\n",
       "      <td>0</td>\n",
       "      <td>3.43</td>\n",
       "      <td>20287</td>\n",
       "      <td>169</td>\n",
       "      <td>62.0</td>\n",
       "      <td>1</td>\n",
       "    </tr>\n",
       "    <tr>\n",
       "      <th>4</th>\n",
       "      <td>0</td>\n",
       "      <td>0</td>\n",
       "      <td>0</td>\n",
       "      <td>0</td>\n",
       "      <td>0</td>\n",
       "      <td>120/80</td>\n",
       "      <td>0</td>\n",
       "      <td>4.99</td>\n",
       "      <td>16202</td>\n",
       "      <td>166</td>\n",
       "      <td>67.0</td>\n",
       "      <td>1</td>\n",
       "    </tr>\n",
       "  </tbody>\n",
       "</table>\n",
       "</div>"
      ],
      "text/plain": [
       "   cholesterol  gluc  smoke  alco  active pressure  diabetes   ket    age  \\\n",
       "0            0     0      0     0       1   100/80         0  5.92     54   \n",
       "1            0     0      0     0       1   120/82         0  3.82     49   \n",
       "2            0     0      0     0       1   120/80         0  5.05  21962   \n",
       "3            0     0      0     0       0   120\\80         0  3.43  20287   \n",
       "4            0     0      0     0       0   120/80         0  4.99  16202   \n",
       "\n",
       "   height  weight  gender  \n",
       "0     169    76.0       0  \n",
       "1     165    65.0       1  \n",
       "2     170    56.0       1  \n",
       "3     169    62.0       1  \n",
       "4     166    67.0       1  "
      ]
     },
     "execution_count": 28,
     "metadata": {},
     "output_type": "execute_result"
    }
   ],
   "source": [
    "df_train.head()"
   ]
  },
  {
   "cell_type": "markdown",
   "id": "53a77f34",
   "metadata": {},
   "source": [
    "`Допущение`: вычисление возраста от текущей даты"
   ]
  },
  {
   "cell_type": "code",
   "execution_count": 29,
   "id": "8ed55176",
   "metadata": {},
   "outputs": [
    {
     "name": "stdout",
     "output_type": "stream",
     "text": [
      "2023-09-29 00:00:00\n",
      "11.0\n"
     ]
    }
   ],
   "source": [
    "today = pd.Timestamp(datetime.date.today())\n",
    "\n",
    "then = datetime.datetime(2012, 3, 5, 23, 8, 15)     \n",
    "\n",
    "print(today)\n",
    "\n",
    "duration = today - then                         \n",
    "duration_in_s = duration.total_seconds()\n",
    "years = divmod(duration_in_s, 31536000)[0]\n",
    "\n",
    "print(years)"
   ]
  },
  {
   "cell_type": "markdown",
   "id": "13ded429",
   "metadata": {},
   "source": [
    "Возникает неоднозначность в интерпретации если идти слева или справа:\n",
    "Пример - `21109`\n",
    "- `21-01-2009` — слева\n",
    "- `02-11-2009` — спарва\n",
    "\n",
    "Скорее всего это количество дней жизни человека"
   ]
  },
  {
   "cell_type": "code",
   "execution_count": 31,
   "id": "69b2cbc8",
   "metadata": {},
   "outputs": [],
   "source": [
    "def get_age(x):\n",
    "    x = str(x)\n",
    "    if len(x) < 5:\n",
    "        return int(x)\n",
    "    else:\n",
    "        res = int(round(int(x) / 365))\n",
    "        \n",
    "    #print(f'in: {x}, convert: {res}')\n",
    "    return res"
   ]
  },
  {
   "cell_type": "code",
   "execution_count": 32,
   "id": "963dcb3a",
   "metadata": {},
   "outputs": [],
   "source": [
    "df_train['age'] = df_train['age'].apply(get_age)\n",
    "df_test['age'] = df_test['age'].apply(get_age)"
   ]
  },
  {
   "cell_type": "code",
   "execution_count": 33,
   "id": "068eb2bb",
   "metadata": {},
   "outputs": [],
   "source": [
    "pressure = df_train['pressure'].str.split(r'[^0-9a-zA-Z-]+', expand=True)\n",
    "\n",
    "df_train[\"high pressure\"]= pressure[0].astype(int) \n",
    "df_train[\"low pressure\"]= pressure[1].astype(int) \n",
    " \n",
    "df_train.drop(columns =['pressure'], inplace = True)"
   ]
  },
  {
   "cell_type": "code",
   "execution_count": 34,
   "id": "c343099a",
   "metadata": {},
   "outputs": [],
   "source": [
    "pressure = df_test['pressure'].str.split(r'[^0-9a-zA-Z-]+', expand=True)\n",
    "\n",
    "df_test[\"high pressure\"]= pressure[0].astype(int) \n",
    "df_test[\"low pressure\"]= pressure[1].astype(int) \n",
    " \n",
    "df_test.drop(columns =['pressure'], inplace = True)"
   ]
  },
  {
   "cell_type": "code",
   "execution_count": 35,
   "id": "87c2471d",
   "metadata": {},
   "outputs": [
    {
     "data": {
      "text/html": [
       "<div>\n",
       "<style scoped>\n",
       "    .dataframe tbody tr th:only-of-type {\n",
       "        vertical-align: middle;\n",
       "    }\n",
       "\n",
       "    .dataframe tbody tr th {\n",
       "        vertical-align: top;\n",
       "    }\n",
       "\n",
       "    .dataframe thead th {\n",
       "        text-align: right;\n",
       "    }\n",
       "</style>\n",
       "<table border=\"1\" class=\"dataframe\">\n",
       "  <thead>\n",
       "    <tr style=\"text-align: right;\">\n",
       "      <th></th>\n",
       "      <th>cholesterol</th>\n",
       "      <th>gluc</th>\n",
       "      <th>smoke</th>\n",
       "      <th>alco</th>\n",
       "      <th>active</th>\n",
       "      <th>diabetes</th>\n",
       "      <th>ket</th>\n",
       "      <th>age</th>\n",
       "      <th>height</th>\n",
       "      <th>weight</th>\n",
       "      <th>gender</th>\n",
       "      <th>high pressure</th>\n",
       "      <th>low pressure</th>\n",
       "    </tr>\n",
       "  </thead>\n",
       "  <tbody>\n",
       "    <tr>\n",
       "      <th>0</th>\n",
       "      <td>0</td>\n",
       "      <td>0</td>\n",
       "      <td>0</td>\n",
       "      <td>0</td>\n",
       "      <td>1</td>\n",
       "      <td>0</td>\n",
       "      <td>5.92</td>\n",
       "      <td>54</td>\n",
       "      <td>169</td>\n",
       "      <td>76.0</td>\n",
       "      <td>0</td>\n",
       "      <td>100</td>\n",
       "      <td>80</td>\n",
       "    </tr>\n",
       "    <tr>\n",
       "      <th>1</th>\n",
       "      <td>0</td>\n",
       "      <td>0</td>\n",
       "      <td>0</td>\n",
       "      <td>0</td>\n",
       "      <td>1</td>\n",
       "      <td>0</td>\n",
       "      <td>3.82</td>\n",
       "      <td>49</td>\n",
       "      <td>165</td>\n",
       "      <td>65.0</td>\n",
       "      <td>1</td>\n",
       "      <td>120</td>\n",
       "      <td>82</td>\n",
       "    </tr>\n",
       "    <tr>\n",
       "      <th>2</th>\n",
       "      <td>0</td>\n",
       "      <td>0</td>\n",
       "      <td>0</td>\n",
       "      <td>0</td>\n",
       "      <td>1</td>\n",
       "      <td>0</td>\n",
       "      <td>5.05</td>\n",
       "      <td>60</td>\n",
       "      <td>170</td>\n",
       "      <td>56.0</td>\n",
       "      <td>1</td>\n",
       "      <td>120</td>\n",
       "      <td>80</td>\n",
       "    </tr>\n",
       "    <tr>\n",
       "      <th>3</th>\n",
       "      <td>0</td>\n",
       "      <td>0</td>\n",
       "      <td>0</td>\n",
       "      <td>0</td>\n",
       "      <td>0</td>\n",
       "      <td>0</td>\n",
       "      <td>3.43</td>\n",
       "      <td>56</td>\n",
       "      <td>169</td>\n",
       "      <td>62.0</td>\n",
       "      <td>1</td>\n",
       "      <td>120</td>\n",
       "      <td>80</td>\n",
       "    </tr>\n",
       "    <tr>\n",
       "      <th>4</th>\n",
       "      <td>0</td>\n",
       "      <td>0</td>\n",
       "      <td>0</td>\n",
       "      <td>0</td>\n",
       "      <td>0</td>\n",
       "      <td>0</td>\n",
       "      <td>4.99</td>\n",
       "      <td>44</td>\n",
       "      <td>166</td>\n",
       "      <td>67.0</td>\n",
       "      <td>1</td>\n",
       "      <td>120</td>\n",
       "      <td>80</td>\n",
       "    </tr>\n",
       "  </tbody>\n",
       "</table>\n",
       "</div>"
      ],
      "text/plain": [
       "   cholesterol  gluc  smoke  alco  active  diabetes   ket  age  height  \\\n",
       "0            0     0      0     0       1         0  5.92   54     169   \n",
       "1            0     0      0     0       1         0  3.82   49     165   \n",
       "2            0     0      0     0       1         0  5.05   60     170   \n",
       "3            0     0      0     0       0         0  3.43   56     169   \n",
       "4            0     0      0     0       0         0  4.99   44     166   \n",
       "\n",
       "   weight  gender  high pressure  low pressure  \n",
       "0    76.0       0            100            80  \n",
       "1    65.0       1            120            82  \n",
       "2    56.0       1            120            80  \n",
       "3    62.0       1            120            80  \n",
       "4    67.0       1            120            80  "
      ]
     },
     "execution_count": 35,
     "metadata": {},
     "output_type": "execute_result"
    }
   ],
   "source": [
    "df_train.head()"
   ]
  },
  {
   "cell_type": "code",
   "execution_count": 36,
   "id": "3107a02d",
   "metadata": {},
   "outputs": [
    {
     "data": {
      "text/plain": [
       "count    58002.000000\n",
       "mean        53.181994\n",
       "std          6.780185\n",
       "min         30.000000\n",
       "25%         48.000000\n",
       "50%         54.000000\n",
       "75%         58.000000\n",
       "max         65.000000\n",
       "Name: age, dtype: float64"
      ]
     },
     "execution_count": 36,
     "metadata": {},
     "output_type": "execute_result"
    }
   ],
   "source": [
    "df_train['age'].describe()"
   ]
  },
  {
   "cell_type": "code",
   "execution_count": 37,
   "id": "0ba0d933",
   "metadata": {},
   "outputs": [
    {
     "data": {
      "text/plain": [
       "array([  100,   120,   160,   123,   110,   150,   130,   180,    90,\n",
       "         140,   170,   200,   125,    80,   115,   142,   145,    70,\n",
       "         190,   135,   106,   124,   122,   105,   157,   164,   138,\n",
       "          12,   131,   102,   114,   118,   165,   143,   155,   112,\n",
       "         128,   210,   179,   220,   147,   151,   907,    14,   134,\n",
       "         139,   171,   175,    85,   149,    16,   152,   168,    95,\n",
       "         119,   132,   188,    11,    13,   199,   144,   141,   117,\n",
       "         159,   193,   176,   126,   906,   129,   153, 14020,   156,\n",
       "         158,   146,   137,   136,  1500,   902,   240,    10,   113,\n",
       "         166,   111,   127,   148,   172,  -150,   174,    97,    15,\n",
       "         104,    93,   169,   196,   173,   121,  1130,   195,   109,\n",
       "         103,   107,   162,  1400,  -120,    20,   163,   116,  -140,\n",
       "        1420,   178,     1,   133,   167,   184,   701,   401,   909,\n",
       "          17, 16020,   108,   154,   185,   101,    96,  -100,   230,\n",
       "         215,  1110,  1202,    24,   177,   309,  1620, 11500,   191,\n",
       "         207,  -115,  1409,   161,    99,     7, 11020,   806,   202,\n",
       "        1300, 13010,   960,   197,   181,    60])"
      ]
     },
     "execution_count": 37,
     "metadata": {},
     "output_type": "execute_result"
    }
   ],
   "source": [
    "df_train['high pressure'].unique()"
   ]
  },
  {
   "cell_type": "code",
   "execution_count": 38,
   "id": "e0fc6faf",
   "metadata": {},
   "outputs": [],
   "source": [
    "df_train['high pressure'] = df_train['high pressure'].apply(lambda x: abs(x))"
   ]
  },
  {
   "cell_type": "markdown",
   "id": "f708efd6",
   "metadata": {},
   "source": [
    "Границы давления (человек живой) \n",
    " - `high` Сталистическое: **80-200**\n",
    " - `low`  Диастолическое: **110-50**"
   ]
  },
  {
   "cell_type": "code",
   "execution_count": 39,
   "id": "06f7f7ea",
   "metadata": {},
   "outputs": [
    {
     "data": {
      "text/plain": [
       "(430, 13)"
      ]
     },
     "execution_count": 39,
     "metadata": {},
     "output_type": "execute_result"
    }
   ],
   "source": [
    "df_drop = df_train[(df_train[\"high pressure\"] >= 200) | (df_train[\"high pressure\"] <= 80)]\n",
    "df_drop.shape"
   ]
  },
  {
   "cell_type": "code",
   "execution_count": 40,
   "id": "2d5fba75",
   "metadata": {},
   "outputs": [],
   "source": [
    "df_train.drop(df_drop.index, inplace = True)"
   ]
  },
  {
   "cell_type": "code",
   "execution_count": 41,
   "id": "544e3c04",
   "metadata": {},
   "outputs": [
    {
     "data": {
      "text/plain": [
       "array([   80,    82,   100,    83,    70,  1000, 10000,    40,    90,\n",
       "          79,    60,    95,   110,    99,    85,    69,    30,  1100,\n",
       "          94,   120,    75,    65,    81,     0,    73,  1088,  1011,\n",
       "          66,    59,    91,    87,    74,    84,    20,     8,    72,\n",
       "          97,    58,  8500,    50,    96,    55,    89,    76,  8099,\n",
       "         150,   103,    71,  9011,   850,    88,   104,  1007,   105,\n",
       "        8000,    77,    78,   801,    98,  8200,   113,  1900,   118,\n",
       "          63,    68,   130,   170,    64,    92,   109,    67,  7100,\n",
       "         126,   106,  1022,    53,    10,    57,    62,   115,   182,\n",
       "        1110,  8100,   180,   810,  1200,   119,   160,  1125,  1003,\n",
       "         820,    86,    56,   102,   140,    93,   108,   800,   710,\n",
       "          61,  5700,  1111,   101,    45,     7,  1008,    52,  1001,\n",
       "         902,  1120,  1044,   900,   135,  1177,  1077,   708,     9,\n",
       "         190,     1,  9800,  1101,   709,   121,   122,   111,  1033,\n",
       "         809,  6800,  9100,   910,   107,  1002,  7099,  8044,   802,\n",
       "        8079,   114,  1211,     6,   112])"
      ]
     },
     "execution_count": 41,
     "metadata": {},
     "output_type": "execute_result"
    }
   ],
   "source": [
    "df_train['low pressure'].unique()"
   ]
  },
  {
   "cell_type": "code",
   "execution_count": 42,
   "id": "8674d447",
   "metadata": {},
   "outputs": [
    {
     "data": {
      "text/plain": [
       "(1331, 13)"
      ]
     },
     "execution_count": 42,
     "metadata": {},
     "output_type": "execute_result"
    }
   ],
   "source": [
    "df_drop = df_train[(df_train[\"low pressure\"] >= 110) | (df_train[\"low pressure\"] <= 50)]\n",
    "df_drop.shape"
   ]
  },
  {
   "cell_type": "code",
   "execution_count": 43,
   "id": "2fce3622",
   "metadata": {},
   "outputs": [],
   "source": [
    "df_train.drop(df_drop.index, inplace = True)"
   ]
  },
  {
   "cell_type": "code",
   "execution_count": 44,
   "id": "0b0278d2",
   "metadata": {},
   "outputs": [
    {
     "data": {
      "text/html": [
       "<div>\n",
       "<style scoped>\n",
       "    .dataframe tbody tr th:only-of-type {\n",
       "        vertical-align: middle;\n",
       "    }\n",
       "\n",
       "    .dataframe tbody tr th {\n",
       "        vertical-align: top;\n",
       "    }\n",
       "\n",
       "    .dataframe thead th {\n",
       "        text-align: right;\n",
       "    }\n",
       "</style>\n",
       "<table border=\"1\" class=\"dataframe\">\n",
       "  <thead>\n",
       "    <tr style=\"text-align: right;\">\n",
       "      <th></th>\n",
       "      <th>cholesterol</th>\n",
       "      <th>gluc</th>\n",
       "      <th>smoke</th>\n",
       "      <th>alco</th>\n",
       "      <th>active</th>\n",
       "      <th>diabetes</th>\n",
       "      <th>ket</th>\n",
       "      <th>age</th>\n",
       "      <th>height</th>\n",
       "      <th>weight</th>\n",
       "      <th>gender</th>\n",
       "      <th>high pressure</th>\n",
       "      <th>low pressure</th>\n",
       "    </tr>\n",
       "  </thead>\n",
       "  <tbody>\n",
       "    <tr>\n",
       "      <th>0</th>\n",
       "      <td>0</td>\n",
       "      <td>0</td>\n",
       "      <td>0</td>\n",
       "      <td>0</td>\n",
       "      <td>1</td>\n",
       "      <td>0</td>\n",
       "      <td>5.92</td>\n",
       "      <td>54</td>\n",
       "      <td>169</td>\n",
       "      <td>76.0</td>\n",
       "      <td>0</td>\n",
       "      <td>100</td>\n",
       "      <td>80</td>\n",
       "    </tr>\n",
       "    <tr>\n",
       "      <th>1</th>\n",
       "      <td>0</td>\n",
       "      <td>0</td>\n",
       "      <td>0</td>\n",
       "      <td>0</td>\n",
       "      <td>1</td>\n",
       "      <td>0</td>\n",
       "      <td>3.82</td>\n",
       "      <td>49</td>\n",
       "      <td>165</td>\n",
       "      <td>65.0</td>\n",
       "      <td>1</td>\n",
       "      <td>120</td>\n",
       "      <td>82</td>\n",
       "    </tr>\n",
       "    <tr>\n",
       "      <th>2</th>\n",
       "      <td>0</td>\n",
       "      <td>0</td>\n",
       "      <td>0</td>\n",
       "      <td>0</td>\n",
       "      <td>1</td>\n",
       "      <td>0</td>\n",
       "      <td>5.05</td>\n",
       "      <td>60</td>\n",
       "      <td>170</td>\n",
       "      <td>56.0</td>\n",
       "      <td>1</td>\n",
       "      <td>120</td>\n",
       "      <td>80</td>\n",
       "    </tr>\n",
       "    <tr>\n",
       "      <th>3</th>\n",
       "      <td>0</td>\n",
       "      <td>0</td>\n",
       "      <td>0</td>\n",
       "      <td>0</td>\n",
       "      <td>0</td>\n",
       "      <td>0</td>\n",
       "      <td>3.43</td>\n",
       "      <td>56</td>\n",
       "      <td>169</td>\n",
       "      <td>62.0</td>\n",
       "      <td>1</td>\n",
       "      <td>120</td>\n",
       "      <td>80</td>\n",
       "    </tr>\n",
       "    <tr>\n",
       "      <th>4</th>\n",
       "      <td>0</td>\n",
       "      <td>0</td>\n",
       "      <td>0</td>\n",
       "      <td>0</td>\n",
       "      <td>0</td>\n",
       "      <td>0</td>\n",
       "      <td>4.99</td>\n",
       "      <td>44</td>\n",
       "      <td>166</td>\n",
       "      <td>67.0</td>\n",
       "      <td>1</td>\n",
       "      <td>120</td>\n",
       "      <td>80</td>\n",
       "    </tr>\n",
       "  </tbody>\n",
       "</table>\n",
       "</div>"
      ],
      "text/plain": [
       "   cholesterol  gluc  smoke  alco  active  diabetes   ket  age  height  \\\n",
       "0            0     0      0     0       1         0  5.92   54     169   \n",
       "1            0     0      0     0       1         0  3.82   49     165   \n",
       "2            0     0      0     0       1         0  5.05   60     170   \n",
       "3            0     0      0     0       0         0  3.43   56     169   \n",
       "4            0     0      0     0       0         0  4.99   44     166   \n",
       "\n",
       "   weight  gender  high pressure  low pressure  \n",
       "0    76.0       0            100            80  \n",
       "1    65.0       1            120            82  \n",
       "2    56.0       1            120            80  \n",
       "3    62.0       1            120            80  \n",
       "4    67.0       1            120            80  "
      ]
     },
     "execution_count": 44,
     "metadata": {},
     "output_type": "execute_result"
    }
   ],
   "source": [
    "df_train.head()"
   ]
  },
  {
   "cell_type": "code",
   "execution_count": 45,
   "id": "e10733b2",
   "metadata": {},
   "outputs": [],
   "source": [
    "perc = [0.009,0.01, 0.02, 0.03, 0.031, 0.035, 0.04,  0.05, 0.1, 0.15, 0.2, 0.25, 0.3, 0.5, 0.7, 0.75, 0.8, 0.85, 0.9, 0.95, 0.97 ,0.99]"
   ]
  },
  {
   "cell_type": "code",
   "execution_count": 46,
   "id": "0e3b561a",
   "metadata": {},
   "outputs": [
    {
     "data": {
      "text/plain": [
       "<AxesSubplot:xlabel='height', ylabel='weight'>"
      ]
     },
     "execution_count": 46,
     "metadata": {},
     "output_type": "execute_result"
    },
    {
     "data": {
      "image/png": "[encoded data removed]",
      "text/plain": [
       "<Figure size 640x480 with 1 Axes>"
      ]
     },
     "metadata": {},
     "output_type": "display_data"
    }
   ],
   "source": [
    "sns.scatterplot(x=\"height\",y=\"weight\",\n",
    "        data=df_train)"
   ]
  },
  {
   "cell_type": "code",
   "execution_count": 47,
   "id": "03d6ab51",
   "metadata": {},
   "outputs": [
    {
     "data": {
      "text/plain": [
       "<AxesSubplot:xlabel='age', ylabel='height'>"
      ]
     },
     "execution_count": 47,
     "metadata": {},
     "output_type": "execute_result"
    },
    {
     "data": {
      "image/png": "[encoded data removed]",
      "text/plain": [
       "<Figure size 640x480 with 1 Axes>"
      ]
     },
     "metadata": {},
     "output_type": "display_data"
    }
   ],
   "source": [
    "sns.scatterplot(x=\"age\",\n",
    "                    y=\"height\",\n",
    "                    data=df_train)"
   ]
  },
  {
   "cell_type": "code",
   "execution_count": 48,
   "id": "2ec2432c",
   "metadata": {},
   "outputs": [
    {
     "data": {
      "text/plain": [
       "<seaborn.axisgrid.FacetGrid at 0x7f8de9070610>"
      ]
     },
     "execution_count": 48,
     "metadata": {},
     "output_type": "execute_result"
    },
    {
     "data": {
      "image/png": "[encoded data removed]",
      "text/plain": [
       "<Figure size 500x500 with 1 Axes>"
      ]
     },
     "metadata": {},
     "output_type": "display_data"
    },
    {
     "data": {
      "image/png": "[encoded data removed]",
      "text/plain": [
       "<Figure size 500x500 with 1 Axes>"
      ]
     },
     "metadata": {},
     "output_type": "display_data"
    }
   ],
   "source": [
    "sns.displot(df_train['weight'])\n",
    "sns.displot(df_train['height'])"
   ]
  },
  {
   "cell_type": "code",
   "execution_count": 49,
   "id": "0e06ede9",
   "metadata": {
    "scrolled": true
   },
   "outputs": [
    {
     "data": {
      "text/plain": [
       "count    56241.000000\n",
       "mean        53.166551\n",
       "std          6.786690\n",
       "min         30.000000\n",
       "0.9%        39.000000\n",
       "1%          39.000000\n",
       "2%          40.000000\n",
       "3%          40.000000\n",
       "3.1%        40.000000\n",
       "3.5%        40.000000\n",
       "4%          40.000000\n",
       "5%          41.000000\n",
       "10%         43.000000\n",
       "15%         45.000000\n",
       "20%         47.000000\n",
       "25%         48.000000\n",
       "30%         50.000000\n",
       "50%         54.000000\n",
       "70%         58.000000\n",
       "75%         58.000000\n",
       "80%         60.000000\n",
       "85%         60.000000\n",
       "90%         62.000000\n",
       "95%         64.000000\n",
       "97%         64.000000\n",
       "99%         64.000000\n",
       "max         65.000000\n",
       "Name: age, dtype: float64"
      ]
     },
     "execution_count": 49,
     "metadata": {},
     "output_type": "execute_result"
    }
   ],
   "source": [
    "df_train['age'].describe(percentiles=perc)"
   ]
  },
  {
   "cell_type": "code",
   "execution_count": 50,
   "id": "3fbc10c3",
   "metadata": {},
   "outputs": [
    {
     "data": {
      "text/plain": [
       "count    56241.000000\n",
       "mean       164.317651\n",
       "std          8.158176\n",
       "min         55.000000\n",
       "0.9%       146.000000\n",
       "1%         147.000000\n",
       "2%         149.000000\n",
       "3%         150.000000\n",
       "3.1%       150.000000\n",
       "3.5%       150.000000\n",
       "4%         151.000000\n",
       "5%         152.000000\n",
       "10%        155.000000\n",
       "15%        156.000000\n",
       "20%        158.000000\n",
       "25%        159.000000\n",
       "30%        160.000000\n",
       "50%        165.000000\n",
       "70%        168.000000\n",
       "75%        170.000000\n",
       "80%        170.000000\n",
       "85%        172.000000\n",
       "90%        175.000000\n",
       "95%        178.000000\n",
       "97%        180.000000\n",
       "99%        184.000000\n",
       "max        250.000000\n",
       "Name: height, dtype: float64"
      ]
     },
     "execution_count": 50,
     "metadata": {},
     "output_type": "execute_result"
    }
   ],
   "source": [
    "df_train['height'].describe(percentiles=perc)"
   ]
  },
  {
   "cell_type": "code",
   "execution_count": 51,
   "id": "4258db36",
   "metadata": {},
   "outputs": [
    {
     "data": {
      "text/plain": [
       "count    56241.000000\n",
       "mean        74.001117\n",
       "std         14.436693\n",
       "min         11.000000\n",
       "0.9%        48.000000\n",
       "1%          48.000000\n",
       "2%          50.000000\n",
       "3%          52.000000\n",
       "3.1%        52.000000\n",
       "3.5%        53.000000\n",
       "4%          54.000000\n",
       "5%          55.000000\n",
       "10%         58.000000\n",
       "15%         60.000000\n",
       "20%         62.000000\n",
       "25%         64.000000\n",
       "30%         65.000000\n",
       "50%         71.000000\n",
       "70%         80.000000\n",
       "75%         82.000000\n",
       "80%         85.000000\n",
       "85%         89.000000\n",
       "90%         93.000000\n",
       "95%        100.000000\n",
       "97%        105.000000\n",
       "99%        117.000000\n",
       "max        200.000000\n",
       "Name: weight, dtype: float64"
      ]
     },
     "execution_count": 51,
     "metadata": {},
     "output_type": "execute_result"
    }
   ],
   "source": [
    "df_train['weight'].describe(percentiles=perc)"
   ]
  },
  {
   "cell_type": "code",
   "execution_count": 52,
   "id": "d94768c3",
   "metadata": {},
   "outputs": [],
   "source": [
    "df_train.drop(df_train[(df_train[\"height\"] == 250) | (df_train[\"height\"] < 146)].index, inplace=True)\n",
    "df_train.drop(df_train[(df_train[\"weight\"] < 47)].index, inplace=True)"
   ]
  },
  {
   "cell_type": "code",
   "execution_count": 53,
   "id": "3f3d8040",
   "metadata": {},
   "outputs": [
    {
     "data": {
      "text/html": [
       "<div>\n",
       "<style scoped>\n",
       "    .dataframe tbody tr th:only-of-type {\n",
       "        vertical-align: middle;\n",
       "    }\n",
       "\n",
       "    .dataframe tbody tr th {\n",
       "        vertical-align: top;\n",
       "    }\n",
       "\n",
       "    .dataframe thead th {\n",
       "        text-align: right;\n",
       "    }\n",
       "</style>\n",
       "<table border=\"1\" class=\"dataframe\">\n",
       "  <thead>\n",
       "    <tr style=\"text-align: right;\">\n",
       "      <th></th>\n",
       "      <th>cholesterol</th>\n",
       "      <th>gluc</th>\n",
       "      <th>smoke</th>\n",
       "      <th>alco</th>\n",
       "      <th>active</th>\n",
       "      <th>diabetes</th>\n",
       "      <th>ket</th>\n",
       "      <th>age</th>\n",
       "      <th>height</th>\n",
       "      <th>weight</th>\n",
       "      <th>gender</th>\n",
       "      <th>high pressure</th>\n",
       "      <th>low pressure</th>\n",
       "    </tr>\n",
       "  </thead>\n",
       "  <tbody>\n",
       "    <tr>\n",
       "      <th>0</th>\n",
       "      <td>0</td>\n",
       "      <td>0</td>\n",
       "      <td>0</td>\n",
       "      <td>0</td>\n",
       "      <td>1</td>\n",
       "      <td>0</td>\n",
       "      <td>5.92</td>\n",
       "      <td>54</td>\n",
       "      <td>169</td>\n",
       "      <td>76.0</td>\n",
       "      <td>0</td>\n",
       "      <td>100</td>\n",
       "      <td>80</td>\n",
       "    </tr>\n",
       "    <tr>\n",
       "      <th>1</th>\n",
       "      <td>0</td>\n",
       "      <td>0</td>\n",
       "      <td>0</td>\n",
       "      <td>0</td>\n",
       "      <td>1</td>\n",
       "      <td>0</td>\n",
       "      <td>3.82</td>\n",
       "      <td>49</td>\n",
       "      <td>165</td>\n",
       "      <td>65.0</td>\n",
       "      <td>1</td>\n",
       "      <td>120</td>\n",
       "      <td>82</td>\n",
       "    </tr>\n",
       "    <tr>\n",
       "      <th>2</th>\n",
       "      <td>0</td>\n",
       "      <td>0</td>\n",
       "      <td>0</td>\n",
       "      <td>0</td>\n",
       "      <td>1</td>\n",
       "      <td>0</td>\n",
       "      <td>5.05</td>\n",
       "      <td>60</td>\n",
       "      <td>170</td>\n",
       "      <td>56.0</td>\n",
       "      <td>1</td>\n",
       "      <td>120</td>\n",
       "      <td>80</td>\n",
       "    </tr>\n",
       "    <tr>\n",
       "      <th>3</th>\n",
       "      <td>0</td>\n",
       "      <td>0</td>\n",
       "      <td>0</td>\n",
       "      <td>0</td>\n",
       "      <td>0</td>\n",
       "      <td>0</td>\n",
       "      <td>3.43</td>\n",
       "      <td>56</td>\n",
       "      <td>169</td>\n",
       "      <td>62.0</td>\n",
       "      <td>1</td>\n",
       "      <td>120</td>\n",
       "      <td>80</td>\n",
       "    </tr>\n",
       "    <tr>\n",
       "      <th>4</th>\n",
       "      <td>0</td>\n",
       "      <td>0</td>\n",
       "      <td>0</td>\n",
       "      <td>0</td>\n",
       "      <td>0</td>\n",
       "      <td>0</td>\n",
       "      <td>4.99</td>\n",
       "      <td>44</td>\n",
       "      <td>166</td>\n",
       "      <td>67.0</td>\n",
       "      <td>1</td>\n",
       "      <td>120</td>\n",
       "      <td>80</td>\n",
       "    </tr>\n",
       "  </tbody>\n",
       "</table>\n",
       "</div>"
      ],
      "text/plain": [
       "   cholesterol  gluc  smoke  alco  active  diabetes   ket  age  height  \\\n",
       "0            0     0      0     0       1         0  5.92   54     169   \n",
       "1            0     0      0     0       1         0  3.82   49     165   \n",
       "2            0     0      0     0       1         0  5.05   60     170   \n",
       "3            0     0      0     0       0         0  3.43   56     169   \n",
       "4            0     0      0     0       0         0  4.99   44     166   \n",
       "\n",
       "   weight  gender  high pressure  low pressure  \n",
       "0    76.0       0            100            80  \n",
       "1    65.0       1            120            82  \n",
       "2    56.0       1            120            80  \n",
       "3    62.0       1            120            80  \n",
       "4    67.0       1            120            80  "
      ]
     },
     "execution_count": 53,
     "metadata": {},
     "output_type": "execute_result"
    }
   ],
   "source": [
    "df_train.head()"
   ]
  },
  {
   "cell_type": "code",
   "execution_count": 54,
   "id": "ea872492",
   "metadata": {},
   "outputs": [
    {
     "data": {
      "text/plain": [
       "55442"
      ]
     },
     "execution_count": 54,
     "metadata": {},
     "output_type": "execute_result"
    }
   ],
   "source": [
    "df_train.shape[0]"
   ]
  },
  {
   "cell_type": "code",
   "execution_count": 55,
   "id": "d723cb90",
   "metadata": {},
   "outputs": [
    {
     "data": {
      "image/png": "[encoded data removed]",
      "text/plain": [
       "<Figure size 640x480 with 1 Axes>"
      ]
     },
     "metadata": {},
     "output_type": "display_data"
    }
   ],
   "source": [
    "sns.countplot(x='age', hue='diabetes', data = df_train);"
   ]
  },
  {
   "cell_type": "code",
   "execution_count": 56,
   "id": "bc1f25ff",
   "metadata": {},
   "outputs": [
    {
     "data": {
      "text/plain": [
       "<AxesSubplot:>"
      ]
     },
     "execution_count": 56,
     "metadata": {},
     "output_type": "execute_result"
    },
    {
     "data": {
      "image/png": "[encoded data removed]",
      "text/plain": [
       "<Figure size 1000x1000 with 2 Axes>"
      ]
     },
     "metadata": {},
     "output_type": "display_data"
    }
   ],
   "source": [
    "plt.figure(figsize=(10, 10))\n",
    "sns.heatmap(df_train.corr(), annot = True)"
   ]
  },
  {
   "cell_type": "code",
   "execution_count": 57,
   "id": "fb3b48de",
   "metadata": {},
   "outputs": [
    {
     "data": {
      "text/plain": [
       "PearsonRResult(statistic=0.7151246943258545, pvalue=0.0)"
      ]
     },
     "execution_count": 57,
     "metadata": {},
     "output_type": "execute_result"
    }
   ],
   "source": [
    "pearsonr(df_train['high pressure'], df_train['low pressure'])"
   ]
  },
  {
   "cell_type": "markdown",
   "id": "64a50ab0",
   "metadata": {},
   "source": [
    "Так как p-value < 0.05 (типичное пороговое значение), то взаимосвязь:\n",
    "\n",
    "- (high pressure, low pressure)\n",
    "\n",
    "статистически значима."
   ]
  },
  {
   "cell_type": "code",
   "execution_count": 58,
   "id": "c22f1f9c",
   "metadata": {},
   "outputs": [
    {
     "data": {
      "text/plain": [
       "cholesterol        int64\n",
       "gluc               int64\n",
       "smoke              int64\n",
       "alco               int64\n",
       "active             int64\n",
       "diabetes           int64\n",
       "ket              float64\n",
       "age                int64\n",
       "height             int64\n",
       "weight           float64\n",
       "gender             int64\n",
       "high pressure      int64\n",
       "low pressure       int64\n",
       "dtype: object"
      ]
     },
     "execution_count": 58,
     "metadata": {},
     "output_type": "execute_result"
    }
   ],
   "source": [
    "df_train.dtypes"
   ]
  },
  {
   "cell_type": "code",
   "execution_count": 59,
   "id": "92bb4dd5",
   "metadata": {},
   "outputs": [
    {
     "data": {
      "text/html": [
       "<div>\n",
       "<style scoped>\n",
       "    .dataframe tbody tr th:only-of-type {\n",
       "        vertical-align: middle;\n",
       "    }\n",
       "\n",
       "    .dataframe tbody tr th {\n",
       "        vertical-align: top;\n",
       "    }\n",
       "\n",
       "    .dataframe thead th {\n",
       "        text-align: right;\n",
       "    }\n",
       "</style>\n",
       "<table border=\"1\" class=\"dataframe\">\n",
       "  <thead>\n",
       "    <tr style=\"text-align: right;\">\n",
       "      <th></th>\n",
       "      <th>cholesterol</th>\n",
       "      <th>gluc</th>\n",
       "      <th>smoke</th>\n",
       "      <th>alco</th>\n",
       "      <th>active</th>\n",
       "      <th>diabetes</th>\n",
       "      <th>ket</th>\n",
       "      <th>age</th>\n",
       "      <th>height</th>\n",
       "      <th>weight</th>\n",
       "      <th>gender</th>\n",
       "      <th>high pressure</th>\n",
       "      <th>low pressure</th>\n",
       "    </tr>\n",
       "  </thead>\n",
       "  <tbody>\n",
       "    <tr>\n",
       "      <th>0</th>\n",
       "      <td>0</td>\n",
       "      <td>0</td>\n",
       "      <td>0</td>\n",
       "      <td>0</td>\n",
       "      <td>1</td>\n",
       "      <td>0</td>\n",
       "      <td>5.92</td>\n",
       "      <td>54</td>\n",
       "      <td>169</td>\n",
       "      <td>76.0</td>\n",
       "      <td>0</td>\n",
       "      <td>100</td>\n",
       "      <td>80</td>\n",
       "    </tr>\n",
       "    <tr>\n",
       "      <th>1</th>\n",
       "      <td>0</td>\n",
       "      <td>0</td>\n",
       "      <td>0</td>\n",
       "      <td>0</td>\n",
       "      <td>1</td>\n",
       "      <td>0</td>\n",
       "      <td>3.82</td>\n",
       "      <td>49</td>\n",
       "      <td>165</td>\n",
       "      <td>65.0</td>\n",
       "      <td>1</td>\n",
       "      <td>120</td>\n",
       "      <td>82</td>\n",
       "    </tr>\n",
       "    <tr>\n",
       "      <th>2</th>\n",
       "      <td>0</td>\n",
       "      <td>0</td>\n",
       "      <td>0</td>\n",
       "      <td>0</td>\n",
       "      <td>1</td>\n",
       "      <td>0</td>\n",
       "      <td>5.05</td>\n",
       "      <td>60</td>\n",
       "      <td>170</td>\n",
       "      <td>56.0</td>\n",
       "      <td>1</td>\n",
       "      <td>120</td>\n",
       "      <td>80</td>\n",
       "    </tr>\n",
       "    <tr>\n",
       "      <th>3</th>\n",
       "      <td>0</td>\n",
       "      <td>0</td>\n",
       "      <td>0</td>\n",
       "      <td>0</td>\n",
       "      <td>0</td>\n",
       "      <td>0</td>\n",
       "      <td>3.43</td>\n",
       "      <td>56</td>\n",
       "      <td>169</td>\n",
       "      <td>62.0</td>\n",
       "      <td>1</td>\n",
       "      <td>120</td>\n",
       "      <td>80</td>\n",
       "    </tr>\n",
       "    <tr>\n",
       "      <th>4</th>\n",
       "      <td>0</td>\n",
       "      <td>0</td>\n",
       "      <td>0</td>\n",
       "      <td>0</td>\n",
       "      <td>0</td>\n",
       "      <td>0</td>\n",
       "      <td>4.99</td>\n",
       "      <td>44</td>\n",
       "      <td>166</td>\n",
       "      <td>67.0</td>\n",
       "      <td>1</td>\n",
       "      <td>120</td>\n",
       "      <td>80</td>\n",
       "    </tr>\n",
       "  </tbody>\n",
       "</table>\n",
       "</div>"
      ],
      "text/plain": [
       "   cholesterol  gluc  smoke  alco  active  diabetes   ket  age  height  \\\n",
       "0            0     0      0     0       1         0  5.92   54     169   \n",
       "1            0     0      0     0       1         0  3.82   49     165   \n",
       "2            0     0      0     0       1         0  5.05   60     170   \n",
       "3            0     0      0     0       0         0  3.43   56     169   \n",
       "4            0     0      0     0       0         0  4.99   44     166   \n",
       "\n",
       "   weight  gender  high pressure  low pressure  \n",
       "0    76.0       0            100            80  \n",
       "1    65.0       1            120            82  \n",
       "2    56.0       1            120            80  \n",
       "3    62.0       1            120            80  \n",
       "4    67.0       1            120            80  "
      ]
     },
     "execution_count": 59,
     "metadata": {},
     "output_type": "execute_result"
    }
   ],
   "source": [
    "df_train.head()"
   ]
  },
  {
   "cell_type": "code",
   "execution_count": 60,
   "id": "b15a71d3",
   "metadata": {},
   "outputs": [],
   "source": [
    "numeric = ['ket', 'age', 'height', 'weight', 'high pressure', 'low pressure']"
   ]
  },
  {
   "cell_type": "code",
   "execution_count": 61,
   "id": "00734a98",
   "metadata": {},
   "outputs": [
    {
     "data": {
      "text/plain": [
       "StandardScaler()"
      ]
     },
     "execution_count": 61,
     "metadata": {},
     "output_type": "execute_result"
    }
   ],
   "source": [
    "scaler_train = StandardScaler()\n",
    "scaler_test = StandardScaler()\n",
    "\n",
    "scaler_train.fit(df_train[numeric])\n",
    "scaler_test.fit(df_test[numeric])"
   ]
  },
  {
   "cell_type": "code",
   "execution_count": 62,
   "id": "23d9e10f",
   "metadata": {},
   "outputs": [],
   "source": [
    "df_train[numeric] = scaler_train.transform(df_train[numeric])\n",
    "df_test[numeric] = scaler_test.transform(df_test[numeric])"
   ]
  },
  {
   "cell_type": "code",
   "execution_count": 63,
   "id": "98b7855c",
   "metadata": {},
   "outputs": [
    {
     "data": {
      "text/html": [
       "<div>\n",
       "<style scoped>\n",
       "    .dataframe tbody tr th:only-of-type {\n",
       "        vertical-align: middle;\n",
       "    }\n",
       "\n",
       "    .dataframe tbody tr th {\n",
       "        vertical-align: top;\n",
       "    }\n",
       "\n",
       "    .dataframe thead th {\n",
       "        text-align: right;\n",
       "    }\n",
       "</style>\n",
       "<table border=\"1\" class=\"dataframe\">\n",
       "  <thead>\n",
       "    <tr style=\"text-align: right;\">\n",
       "      <th></th>\n",
       "      <th>cholesterol</th>\n",
       "      <th>gluc</th>\n",
       "      <th>smoke</th>\n",
       "      <th>alco</th>\n",
       "      <th>active</th>\n",
       "      <th>diabetes</th>\n",
       "      <th>ket</th>\n",
       "      <th>age</th>\n",
       "      <th>height</th>\n",
       "      <th>weight</th>\n",
       "      <th>gender</th>\n",
       "      <th>high pressure</th>\n",
       "      <th>low pressure</th>\n",
       "    </tr>\n",
       "  </thead>\n",
       "  <tbody>\n",
       "    <tr>\n",
       "      <th>0</th>\n",
       "      <td>0</td>\n",
       "      <td>0</td>\n",
       "      <td>0</td>\n",
       "      <td>0</td>\n",
       "      <td>1</td>\n",
       "      <td>0</td>\n",
       "      <td>1.300898</td>\n",
       "      <td>0.123787</td>\n",
       "      <td>0.578365</td>\n",
       "      <td>0.121887</td>\n",
       "      <td>0</td>\n",
       "      <td>-1.659301</td>\n",
       "      <td>-0.121695</td>\n",
       "    </tr>\n",
       "    <tr>\n",
       "      <th>1</th>\n",
       "      <td>0</td>\n",
       "      <td>0</td>\n",
       "      <td>0</td>\n",
       "      <td>0</td>\n",
       "      <td>1</td>\n",
       "      <td>0</td>\n",
       "      <td>-1.152594</td>\n",
       "      <td>-0.613934</td>\n",
       "      <td>0.053117</td>\n",
       "      <td>-0.653935</td>\n",
       "      <td>1</td>\n",
       "      <td>-0.397122</td>\n",
       "      <td>0.106007</td>\n",
       "    </tr>\n",
       "    <tr>\n",
       "      <th>2</th>\n",
       "      <td>0</td>\n",
       "      <td>0</td>\n",
       "      <td>0</td>\n",
       "      <td>0</td>\n",
       "      <td>1</td>\n",
       "      <td>0</td>\n",
       "      <td>0.284451</td>\n",
       "      <td>1.009054</td>\n",
       "      <td>0.709677</td>\n",
       "      <td>-1.288699</td>\n",
       "      <td>1</td>\n",
       "      <td>-0.397122</td>\n",
       "      <td>-0.121695</td>\n",
       "    </tr>\n",
       "    <tr>\n",
       "      <th>3</th>\n",
       "      <td>0</td>\n",
       "      <td>0</td>\n",
       "      <td>0</td>\n",
       "      <td>0</td>\n",
       "      <td>0</td>\n",
       "      <td>0</td>\n",
       "      <td>-1.608242</td>\n",
       "      <td>0.418876</td>\n",
       "      <td>0.578365</td>\n",
       "      <td>-0.865523</td>\n",
       "      <td>1</td>\n",
       "      <td>-0.397122</td>\n",
       "      <td>-0.121695</td>\n",
       "    </tr>\n",
       "    <tr>\n",
       "      <th>4</th>\n",
       "      <td>0</td>\n",
       "      <td>0</td>\n",
       "      <td>0</td>\n",
       "      <td>0</td>\n",
       "      <td>0</td>\n",
       "      <td>0</td>\n",
       "      <td>0.214352</td>\n",
       "      <td>-1.351656</td>\n",
       "      <td>0.184429</td>\n",
       "      <td>-0.512877</td>\n",
       "      <td>1</td>\n",
       "      <td>-0.397122</td>\n",
       "      <td>-0.121695</td>\n",
       "    </tr>\n",
       "  </tbody>\n",
       "</table>\n",
       "</div>"
      ],
      "text/plain": [
       "   cholesterol  gluc  smoke  alco  active  diabetes       ket       age  \\\n",
       "0            0     0      0     0       1         0  1.300898  0.123787   \n",
       "1            0     0      0     0       1         0 -1.152594 -0.613934   \n",
       "2            0     0      0     0       1         0  0.284451  1.009054   \n",
       "3            0     0      0     0       0         0 -1.608242  0.418876   \n",
       "4            0     0      0     0       0         0  0.214352 -1.351656   \n",
       "\n",
       "     height    weight  gender  high pressure  low pressure  \n",
       "0  0.578365  0.121887       0      -1.659301     -0.121695  \n",
       "1  0.053117 -0.653935       1      -0.397122      0.106007  \n",
       "2  0.709677 -1.288699       1      -0.397122     -0.121695  \n",
       "3  0.578365 -0.865523       1      -0.397122     -0.121695  \n",
       "4  0.184429 -0.512877       1      -0.397122     -0.121695  "
      ]
     },
     "execution_count": 63,
     "metadata": {},
     "output_type": "execute_result"
    }
   ],
   "source": [
    "df_train.head()"
   ]
  },
  {
   "cell_type": "code",
   "execution_count": 64,
   "id": "da82fb5d",
   "metadata": {},
   "outputs": [
    {
     "data": {
      "text/html": [
       "<div>\n",
       "<style scoped>\n",
       "    .dataframe tbody tr th:only-of-type {\n",
       "        vertical-align: middle;\n",
       "    }\n",
       "\n",
       "    .dataframe tbody tr th {\n",
       "        vertical-align: top;\n",
       "    }\n",
       "\n",
       "    .dataframe thead th {\n",
       "        text-align: right;\n",
       "    }\n",
       "</style>\n",
       "<table border=\"1\" class=\"dataframe\">\n",
       "  <thead>\n",
       "    <tr style=\"text-align: right;\">\n",
       "      <th></th>\n",
       "      <th>cholesterol</th>\n",
       "      <th>gluc</th>\n",
       "      <th>smoke</th>\n",
       "      <th>alco</th>\n",
       "      <th>active</th>\n",
       "      <th>diabetes</th>\n",
       "      <th>ket</th>\n",
       "      <th>age</th>\n",
       "      <th>height</th>\n",
       "      <th>weight</th>\n",
       "      <th>gender</th>\n",
       "      <th>high pressure</th>\n",
       "      <th>low pressure</th>\n",
       "    </tr>\n",
       "  </thead>\n",
       "  <tbody>\n",
       "    <tr>\n",
       "      <th>0</th>\n",
       "      <td>0</td>\n",
       "      <td>1</td>\n",
       "      <td>0</td>\n",
       "      <td>0</td>\n",
       "      <td>0</td>\n",
       "      <td>1</td>\n",
       "      <td>0.124082</td>\n",
       "      <td>1.161299</td>\n",
       "      <td>0.074048</td>\n",
       "      <td>1.063822</td>\n",
       "      <td>0</td>\n",
       "      <td>-0.239697</td>\n",
       "      <td>-0.096371</td>\n",
       "    </tr>\n",
       "    <tr>\n",
       "      <th>1</th>\n",
       "      <td>0</td>\n",
       "      <td>0</td>\n",
       "      <td>0</td>\n",
       "      <td>0</td>\n",
       "      <td>1</td>\n",
       "      <td>0</td>\n",
       "      <td>0.159613</td>\n",
       "      <td>-1.958333</td>\n",
       "      <td>-0.287417</td>\n",
       "      <td>-1.636216</td>\n",
       "      <td>1</td>\n",
       "      <td>-0.896346</td>\n",
       "      <td>-0.151684</td>\n",
       "    </tr>\n",
       "    <tr>\n",
       "      <th>2</th>\n",
       "      <td>0</td>\n",
       "      <td>0</td>\n",
       "      <td>0</td>\n",
       "      <td>0</td>\n",
       "      <td>0</td>\n",
       "      <td>1</td>\n",
       "      <td>-1.001096</td>\n",
       "      <td>1.606960</td>\n",
       "      <td>-1.010348</td>\n",
       "      <td>-0.016193</td>\n",
       "      <td>1</td>\n",
       "      <td>0.416951</td>\n",
       "      <td>0.014254</td>\n",
       "    </tr>\n",
       "    <tr>\n",
       "      <th>3</th>\n",
       "      <td>0</td>\n",
       "      <td>0</td>\n",
       "      <td>0</td>\n",
       "      <td>0</td>\n",
       "      <td>1</td>\n",
       "      <td>0</td>\n",
       "      <td>-0.835280</td>\n",
       "      <td>-0.918456</td>\n",
       "      <td>-0.287417</td>\n",
       "      <td>0.996321</td>\n",
       "      <td>1</td>\n",
       "      <td>-0.239697</td>\n",
       "      <td>-0.041059</td>\n",
       "    </tr>\n",
       "    <tr>\n",
       "      <th>4</th>\n",
       "      <td>0</td>\n",
       "      <td>0</td>\n",
       "      <td>0</td>\n",
       "      <td>0</td>\n",
       "      <td>0</td>\n",
       "      <td>0</td>\n",
       "      <td>0.704436</td>\n",
       "      <td>-0.472794</td>\n",
       "      <td>-0.287417</td>\n",
       "      <td>-0.151195</td>\n",
       "      <td>0</td>\n",
       "      <td>0.088627</td>\n",
       "      <td>-0.096371</td>\n",
       "    </tr>\n",
       "  </tbody>\n",
       "</table>\n",
       "</div>"
      ],
      "text/plain": [
       "   cholesterol  gluc  smoke  alco  active  diabetes       ket       age  \\\n",
       "0            0     1      0     0       0         1  0.124082  1.161299   \n",
       "1            0     0      0     0       1         0  0.159613 -1.958333   \n",
       "2            0     0      0     0       0         1 -1.001096  1.606960   \n",
       "3            0     0      0     0       1         0 -0.835280 -0.918456   \n",
       "4            0     0      0     0       0         0  0.704436 -0.472794   \n",
       "\n",
       "     height    weight  gender  high pressure  low pressure  \n",
       "0  0.074048  1.063822       0      -0.239697     -0.096371  \n",
       "1 -0.287417 -1.636216       1      -0.896346     -0.151684  \n",
       "2 -1.010348 -0.016193       1       0.416951      0.014254  \n",
       "3 -0.287417  0.996321       1      -0.239697     -0.041059  \n",
       "4 -0.287417 -0.151195       0       0.088627     -0.096371  "
      ]
     },
     "execution_count": 64,
     "metadata": {},
     "output_type": "execute_result"
    }
   ],
   "source": [
    "df_test.head()"
   ]
  },
  {
   "cell_type": "code",
   "execution_count": 65,
   "id": "ea6f88ff",
   "metadata": {},
   "outputs": [
    {
     "data": {
      "text/plain": [
       "<AxesSubplot:ylabel='Frequency'>"
      ]
     },
     "execution_count": 65,
     "metadata": {},
     "output_type": "execute_result"
    },
    {
     "data": {
      "image/png": "[encoded data removed]",
      "text/plain": [
       "<Figure size 100x100 with 1 Axes>"
      ]
     },
     "metadata": {},
     "output_type": "display_data"
    }
   ],
   "source": [
    "df_train['diabetes'].plot(kind ='hist', bins=2, figsize=(1,1))"
   ]
  },
  {
   "cell_type": "markdown",
   "id": "a2584378",
   "metadata": {},
   "source": [
    "Дисбаланс классов!"
   ]
  },
  {
   "cell_type": "code",
   "execution_count": 66,
   "id": "94385a2a",
   "metadata": {},
   "outputs": [],
   "source": [
    "def upsample(features, target, repeat, upsampled_сlass):\n",
    "    features_zeros = features[target == 0]\n",
    "    features_ones = features[target == 1]\n",
    "    target_zeros = target[target == 0]\n",
    "    target_ones = target[target == 1]\n",
    "    \n",
    "    if upsampled_сlass == 0:\n",
    "        features_upsampled = pd.concat([features_zeros]* repeat + [features_ones] )\n",
    "        target_upsampled = pd.concat([target_zeros]* repeat + [target_ones] )\n",
    "        features_upsampled, target_upsampled = shuffle(\n",
    "        features_upsampled, target_upsampled, random_state=12345)\n",
    "        \n",
    "    elif upsampled_сlass == 1:\n",
    "        features_upsampled = pd.concat([features_zeros] + [features_ones] * repeat)\n",
    "        target_upsampled = pd.concat([target_zeros] + [target_ones] * repeat)\n",
    "        features_upsampled, target_upsampled = shuffle(\n",
    "        features_upsampled, target_upsampled, random_state=12345)\n",
    "    else:\n",
    "        features_upsampled = 0\n",
    "        target_upsampled = 0  \n",
    "        \n",
    "        \n",
    "       \n",
    "    return features_upsampled, target_upsampled"
   ]
  },
  {
   "cell_type": "code",
   "execution_count": 67,
   "id": "41184952",
   "metadata": {},
   "outputs": [
    {
     "name": "stdout",
     "output_type": "stream",
     "text": [
      "1    0.554019\n",
      "0    0.445981\n",
      "Name: diabetes, dtype: float64\n",
      "(94856,)\n"
     ]
    }
   ],
   "source": [
    "features_train_upsampled, target_train_upsampled = upsample(df_train.loc[:, df_train.columns != 'diabetes'], \n",
    "                                                            df_train['diabetes'], 4, 1)\n",
    "print(target_train_upsampled.value_counts(normalize = 1))\n",
    "print(target_train_upsampled.shape)"
   ]
  },
  {
   "cell_type": "code",
   "execution_count": 68,
   "id": "4ecdc0f0",
   "metadata": {},
   "outputs": [
    {
     "data": {
      "text/plain": [
       "<AxesSubplot:ylabel='Frequency'>"
      ]
     },
     "execution_count": 68,
     "metadata": {},
     "output_type": "execute_result"
    },
    {
     "data": {
      "image/png": "[encoded data removed]",
      "text/plain": [
       "<Figure size 100x100 with 1 Axes>"
      ]
     },
     "metadata": {},
     "output_type": "display_data"
    }
   ],
   "source": [
    "target_train_upsampled.plot(kind ='hist', bins=2, figsize=(1,1))"
   ]
  },
  {
   "cell_type": "markdown",
   "id": "631ba1de",
   "metadata": {},
   "source": [
    "Выборка сбалансирована"
   ]
  },
  {
   "cell_type": "code",
   "execution_count": 69,
   "id": "32d9bb95",
   "metadata": {},
   "outputs": [],
   "source": [
    "features_train_upsampled['diabetes'] = target_train_upsampled"
   ]
  },
  {
   "cell_type": "code",
   "execution_count": 70,
   "id": "478285ab",
   "metadata": {},
   "outputs": [
    {
     "data": {
      "text/html": [
       "<div>\n",
       "<style scoped>\n",
       "    .dataframe tbody tr th:only-of-type {\n",
       "        vertical-align: middle;\n",
       "    }\n",
       "\n",
       "    .dataframe tbody tr th {\n",
       "        vertical-align: top;\n",
       "    }\n",
       "\n",
       "    .dataframe thead th {\n",
       "        text-align: right;\n",
       "    }\n",
       "</style>\n",
       "<table border=\"1\" class=\"dataframe\">\n",
       "  <thead>\n",
       "    <tr style=\"text-align: right;\">\n",
       "      <th></th>\n",
       "      <th>cholesterol</th>\n",
       "      <th>gluc</th>\n",
       "      <th>smoke</th>\n",
       "      <th>alco</th>\n",
       "      <th>active</th>\n",
       "      <th>ket</th>\n",
       "      <th>age</th>\n",
       "      <th>height</th>\n",
       "      <th>weight</th>\n",
       "      <th>gender</th>\n",
       "      <th>high pressure</th>\n",
       "      <th>low pressure</th>\n",
       "      <th>diabetes</th>\n",
       "    </tr>\n",
       "  </thead>\n",
       "  <tbody>\n",
       "    <tr>\n",
       "      <th>59922</th>\n",
       "      <td>1</td>\n",
       "      <td>0</td>\n",
       "      <td>0</td>\n",
       "      <td>1</td>\n",
       "      <td>1</td>\n",
       "      <td>-1.246060</td>\n",
       "      <td>1.009054</td>\n",
       "      <td>0.447053</td>\n",
       "      <td>1.391415</td>\n",
       "      <td>0</td>\n",
       "      <td>1.496146</td>\n",
       "      <td>1.016814</td>\n",
       "      <td>1</td>\n",
       "    </tr>\n",
       "    <tr>\n",
       "      <th>26411</th>\n",
       "      <td>2</td>\n",
       "      <td>0</td>\n",
       "      <td>0</td>\n",
       "      <td>0</td>\n",
       "      <td>1</td>\n",
       "      <td>1.686447</td>\n",
       "      <td>0.123787</td>\n",
       "      <td>1.366237</td>\n",
       "      <td>1.320886</td>\n",
       "      <td>0</td>\n",
       "      <td>2.127235</td>\n",
       "      <td>1.016814</td>\n",
       "      <td>1</td>\n",
       "    </tr>\n",
       "    <tr>\n",
       "      <th>6662</th>\n",
       "      <td>0</td>\n",
       "      <td>0</td>\n",
       "      <td>0</td>\n",
       "      <td>0</td>\n",
       "      <td>1</td>\n",
       "      <td>-1.374576</td>\n",
       "      <td>-1.351656</td>\n",
       "      <td>1.628861</td>\n",
       "      <td>0.968239</td>\n",
       "      <td>0</td>\n",
       "      <td>1.180601</td>\n",
       "      <td>1.016814</td>\n",
       "      <td>0</td>\n",
       "    </tr>\n",
       "    <tr>\n",
       "      <th>12189</th>\n",
       "      <td>1</td>\n",
       "      <td>1</td>\n",
       "      <td>0</td>\n",
       "      <td>0</td>\n",
       "      <td>1</td>\n",
       "      <td>0.436334</td>\n",
       "      <td>1.156598</td>\n",
       "      <td>2.022797</td>\n",
       "      <td>0.121887</td>\n",
       "      <td>0</td>\n",
       "      <td>-1.659301</td>\n",
       "      <td>-0.121695</td>\n",
       "      <td>1</td>\n",
       "    </tr>\n",
       "    <tr>\n",
       "      <th>51751</th>\n",
       "      <td>0</td>\n",
       "      <td>0</td>\n",
       "      <td>0</td>\n",
       "      <td>0</td>\n",
       "      <td>1</td>\n",
       "      <td>1.592980</td>\n",
       "      <td>0.418876</td>\n",
       "      <td>0.053117</td>\n",
       "      <td>-0.301289</td>\n",
       "      <td>1</td>\n",
       "      <td>-0.397122</td>\n",
       "      <td>-0.121695</td>\n",
       "      <td>0</td>\n",
       "    </tr>\n",
       "    <tr>\n",
       "      <th>...</th>\n",
       "      <td>...</td>\n",
       "      <td>...</td>\n",
       "      <td>...</td>\n",
       "      <td>...</td>\n",
       "      <td>...</td>\n",
       "      <td>...</td>\n",
       "      <td>...</td>\n",
       "      <td>...</td>\n",
       "      <td>...</td>\n",
       "      <td>...</td>\n",
       "      <td>...</td>\n",
       "      <td>...</td>\n",
       "      <td>...</td>\n",
       "    </tr>\n",
       "    <tr>\n",
       "      <th>5828</th>\n",
       "      <td>0</td>\n",
       "      <td>0</td>\n",
       "      <td>0</td>\n",
       "      <td>0</td>\n",
       "      <td>1</td>\n",
       "      <td>-0.147830</td>\n",
       "      <td>1.009054</td>\n",
       "      <td>-1.128691</td>\n",
       "      <td>-0.865523</td>\n",
       "      <td>0</td>\n",
       "      <td>0.865056</td>\n",
       "      <td>1.016814</td>\n",
       "      <td>0</td>\n",
       "    </tr>\n",
       "    <tr>\n",
       "      <th>16766</th>\n",
       "      <td>1</td>\n",
       "      <td>1</td>\n",
       "      <td>0</td>\n",
       "      <td>0</td>\n",
       "      <td>1</td>\n",
       "      <td>1.826646</td>\n",
       "      <td>0.566421</td>\n",
       "      <td>0.709677</td>\n",
       "      <td>1.320886</td>\n",
       "      <td>1</td>\n",
       "      <td>-0.397122</td>\n",
       "      <td>-0.121695</td>\n",
       "      <td>1</td>\n",
       "    </tr>\n",
       "    <tr>\n",
       "      <th>3088</th>\n",
       "      <td>0</td>\n",
       "      <td>0</td>\n",
       "      <td>0</td>\n",
       "      <td>0</td>\n",
       "      <td>1</td>\n",
       "      <td>-0.124464</td>\n",
       "      <td>0.418876</td>\n",
       "      <td>0.578365</td>\n",
       "      <td>-1.274593</td>\n",
       "      <td>1</td>\n",
       "      <td>1.496146</td>\n",
       "      <td>1.016814</td>\n",
       "      <td>0</td>\n",
       "    </tr>\n",
       "    <tr>\n",
       "      <th>39666</th>\n",
       "      <td>1</td>\n",
       "      <td>0</td>\n",
       "      <td>1</td>\n",
       "      <td>0</td>\n",
       "      <td>1</td>\n",
       "      <td>-0.486646</td>\n",
       "      <td>1.009054</td>\n",
       "      <td>1.760173</td>\n",
       "      <td>1.250357</td>\n",
       "      <td>0</td>\n",
       "      <td>-0.397122</td>\n",
       "      <td>-0.121695</td>\n",
       "      <td>1</td>\n",
       "    </tr>\n",
       "    <tr>\n",
       "      <th>21895</th>\n",
       "      <td>2</td>\n",
       "      <td>0</td>\n",
       "      <td>1</td>\n",
       "      <td>0</td>\n",
       "      <td>1</td>\n",
       "      <td>0.050786</td>\n",
       "      <td>1.451687</td>\n",
       "      <td>2.679358</td>\n",
       "      <td>0.827181</td>\n",
       "      <td>0</td>\n",
       "      <td>0.865056</td>\n",
       "      <td>2.155323</td>\n",
       "      <td>1</td>\n",
       "    </tr>\n",
       "  </tbody>\n",
       "</table>\n",
       "<p>94856 rows × 13 columns</p>\n",
       "</div>"
      ],
      "text/plain": [
       "       cholesterol  gluc  smoke  alco  active       ket       age    height  \\\n",
       "59922            1     0      0     1       1 -1.246060  1.009054  0.447053   \n",
       "26411            2     0      0     0       1  1.686447  0.123787  1.366237   \n",
       "6662             0     0      0     0       1 -1.374576 -1.351656  1.628861   \n",
       "12189            1     1      0     0       1  0.436334  1.156598  2.022797   \n",
       "51751            0     0      0     0       1  1.592980  0.418876  0.053117   \n",
       "...            ...   ...    ...   ...     ...       ...       ...       ...   \n",
       "5828             0     0      0     0       1 -0.147830  1.009054 -1.128691   \n",
       "16766            1     1      0     0       1  1.826646  0.566421  0.709677   \n",
       "3088             0     0      0     0       1 -0.124464  0.418876  0.578365   \n",
       "39666            1     0      1     0       1 -0.486646  1.009054  1.760173   \n",
       "21895            2     0      1     0       1  0.050786  1.451687  2.679358   \n",
       "\n",
       "         weight  gender  high pressure  low pressure  diabetes  \n",
       "59922  1.391415       0       1.496146      1.016814         1  \n",
       "26411  1.320886       0       2.127235      1.016814         1  \n",
       "6662   0.968239       0       1.180601      1.016814         0  \n",
       "12189  0.121887       0      -1.659301     -0.121695         1  \n",
       "51751 -0.301289       1      -0.397122     -0.121695         0  \n",
       "...         ...     ...            ...           ...       ...  \n",
       "5828  -0.865523       0       0.865056      1.016814         0  \n",
       "16766  1.320886       1      -0.397122     -0.121695         1  \n",
       "3088  -1.274593       1       1.496146      1.016814         0  \n",
       "39666  1.250357       0      -0.397122     -0.121695         1  \n",
       "21895  0.827181       0       0.865056      2.155323         1  \n",
       "\n",
       "[94856 rows x 13 columns]"
      ]
     },
     "execution_count": 70,
     "metadata": {},
     "output_type": "execute_result"
    }
   ],
   "source": [
    "features_train_upsampled"
   ]
  },
  {
   "cell_type": "code",
   "execution_count": 71,
   "id": "8a4d3f68",
   "metadata": {},
   "outputs": [
    {
     "data": {
      "text/html": [
       "<div>\n",
       "<style scoped>\n",
       "    .dataframe tbody tr th:only-of-type {\n",
       "        vertical-align: middle;\n",
       "    }\n",
       "\n",
       "    .dataframe tbody tr th {\n",
       "        vertical-align: top;\n",
       "    }\n",
       "\n",
       "    .dataframe thead th {\n",
       "        text-align: right;\n",
       "    }\n",
       "</style>\n",
       "<table border=\"1\" class=\"dataframe\">\n",
       "  <thead>\n",
       "    <tr style=\"text-align: right;\">\n",
       "      <th></th>\n",
       "      <th>cholesterol</th>\n",
       "      <th>gluc</th>\n",
       "      <th>smoke</th>\n",
       "      <th>alco</th>\n",
       "      <th>active</th>\n",
       "      <th>diabetes</th>\n",
       "      <th>ket</th>\n",
       "      <th>age</th>\n",
       "      <th>height</th>\n",
       "      <th>weight</th>\n",
       "      <th>gender</th>\n",
       "      <th>high pressure</th>\n",
       "      <th>low pressure</th>\n",
       "    </tr>\n",
       "  </thead>\n",
       "  <tbody>\n",
       "    <tr>\n",
       "      <th>0</th>\n",
       "      <td>0</td>\n",
       "      <td>1</td>\n",
       "      <td>0</td>\n",
       "      <td>0</td>\n",
       "      <td>0</td>\n",
       "      <td>1</td>\n",
       "      <td>0.124082</td>\n",
       "      <td>1.161299</td>\n",
       "      <td>0.074048</td>\n",
       "      <td>1.063822</td>\n",
       "      <td>0</td>\n",
       "      <td>-0.239697</td>\n",
       "      <td>-0.096371</td>\n",
       "    </tr>\n",
       "    <tr>\n",
       "      <th>1</th>\n",
       "      <td>0</td>\n",
       "      <td>0</td>\n",
       "      <td>0</td>\n",
       "      <td>0</td>\n",
       "      <td>1</td>\n",
       "      <td>0</td>\n",
       "      <td>0.159613</td>\n",
       "      <td>-1.958333</td>\n",
       "      <td>-0.287417</td>\n",
       "      <td>-1.636216</td>\n",
       "      <td>1</td>\n",
       "      <td>-0.896346</td>\n",
       "      <td>-0.151684</td>\n",
       "    </tr>\n",
       "    <tr>\n",
       "      <th>2</th>\n",
       "      <td>0</td>\n",
       "      <td>0</td>\n",
       "      <td>0</td>\n",
       "      <td>0</td>\n",
       "      <td>0</td>\n",
       "      <td>1</td>\n",
       "      <td>-1.001096</td>\n",
       "      <td>1.606960</td>\n",
       "      <td>-1.010348</td>\n",
       "      <td>-0.016193</td>\n",
       "      <td>1</td>\n",
       "      <td>0.416951</td>\n",
       "      <td>0.014254</td>\n",
       "    </tr>\n",
       "    <tr>\n",
       "      <th>3</th>\n",
       "      <td>0</td>\n",
       "      <td>0</td>\n",
       "      <td>0</td>\n",
       "      <td>0</td>\n",
       "      <td>1</td>\n",
       "      <td>0</td>\n",
       "      <td>-0.835280</td>\n",
       "      <td>-0.918456</td>\n",
       "      <td>-0.287417</td>\n",
       "      <td>0.996321</td>\n",
       "      <td>1</td>\n",
       "      <td>-0.239697</td>\n",
       "      <td>-0.041059</td>\n",
       "    </tr>\n",
       "    <tr>\n",
       "      <th>4</th>\n",
       "      <td>0</td>\n",
       "      <td>0</td>\n",
       "      <td>0</td>\n",
       "      <td>0</td>\n",
       "      <td>0</td>\n",
       "      <td>0</td>\n",
       "      <td>0.704436</td>\n",
       "      <td>-0.472794</td>\n",
       "      <td>-0.287417</td>\n",
       "      <td>-0.151195</td>\n",
       "      <td>0</td>\n",
       "      <td>0.088627</td>\n",
       "      <td>-0.096371</td>\n",
       "    </tr>\n",
       "    <tr>\n",
       "      <th>...</th>\n",
       "      <td>...</td>\n",
       "      <td>...</td>\n",
       "      <td>...</td>\n",
       "      <td>...</td>\n",
       "      <td>...</td>\n",
       "      <td>...</td>\n",
       "      <td>...</td>\n",
       "      <td>...</td>\n",
       "      <td>...</td>\n",
       "      <td>...</td>\n",
       "      <td>...</td>\n",
       "      <td>...</td>\n",
       "      <td>...</td>\n",
       "    </tr>\n",
       "    <tr>\n",
       "      <th>9995</th>\n",
       "      <td>0</td>\n",
       "      <td>0</td>\n",
       "      <td>0</td>\n",
       "      <td>0</td>\n",
       "      <td>0</td>\n",
       "      <td>0</td>\n",
       "      <td>0.538620</td>\n",
       "      <td>-0.175686</td>\n",
       "      <td>0.435513</td>\n",
       "      <td>0.253811</td>\n",
       "      <td>1</td>\n",
       "      <td>-0.239697</td>\n",
       "      <td>-0.096371</td>\n",
       "    </tr>\n",
       "    <tr>\n",
       "      <th>9996</th>\n",
       "      <td>1</td>\n",
       "      <td>0</td>\n",
       "      <td>0</td>\n",
       "      <td>0</td>\n",
       "      <td>1</td>\n",
       "      <td>0</td>\n",
       "      <td>-0.586557</td>\n",
       "      <td>-0.175686</td>\n",
       "      <td>-0.528394</td>\n",
       "      <td>0.321311</td>\n",
       "      <td>1</td>\n",
       "      <td>-0.239697</td>\n",
       "      <td>-0.096371</td>\n",
       "    </tr>\n",
       "    <tr>\n",
       "      <th>9997</th>\n",
       "      <td>0</td>\n",
       "      <td>0</td>\n",
       "      <td>1</td>\n",
       "      <td>1</td>\n",
       "      <td>1</td>\n",
       "      <td>0</td>\n",
       "      <td>-0.385209</td>\n",
       "      <td>0.269975</td>\n",
       "      <td>2.965771</td>\n",
       "      <td>-0.151195</td>\n",
       "      <td>0</td>\n",
       "      <td>0.088627</td>\n",
       "      <td>-0.096371</td>\n",
       "    </tr>\n",
       "    <tr>\n",
       "      <th>9998</th>\n",
       "      <td>0</td>\n",
       "      <td>0</td>\n",
       "      <td>0</td>\n",
       "      <td>0</td>\n",
       "      <td>1</td>\n",
       "      <td>0</td>\n",
       "      <td>0.218833</td>\n",
       "      <td>-0.175686</td>\n",
       "      <td>-0.648883</td>\n",
       "      <td>-0.623702</td>\n",
       "      <td>1</td>\n",
       "      <td>-0.239697</td>\n",
       "      <td>-0.096371</td>\n",
       "    </tr>\n",
       "    <tr>\n",
       "      <th>9999</th>\n",
       "      <td>2</td>\n",
       "      <td>0</td>\n",
       "      <td>0</td>\n",
       "      <td>0</td>\n",
       "      <td>1</td>\n",
       "      <td>0</td>\n",
       "      <td>0.313585</td>\n",
       "      <td>0.121421</td>\n",
       "      <td>-0.889860</td>\n",
       "      <td>-1.096208</td>\n",
       "      <td>1</td>\n",
       "      <td>0.416951</td>\n",
       "      <td>0.014254</td>\n",
       "    </tr>\n",
       "  </tbody>\n",
       "</table>\n",
       "<p>9680 rows × 13 columns</p>\n",
       "</div>"
      ],
      "text/plain": [
       "      cholesterol  gluc  smoke  alco  active  diabetes       ket       age  \\\n",
       "0               0     1      0     0       0         1  0.124082  1.161299   \n",
       "1               0     0      0     0       1         0  0.159613 -1.958333   \n",
       "2               0     0      0     0       0         1 -1.001096  1.606960   \n",
       "3               0     0      0     0       1         0 -0.835280 -0.918456   \n",
       "4               0     0      0     0       0         0  0.704436 -0.472794   \n",
       "...           ...   ...    ...   ...     ...       ...       ...       ...   \n",
       "9995            0     0      0     0       0         0  0.538620 -0.175686   \n",
       "9996            1     0      0     0       1         0 -0.586557 -0.175686   \n",
       "9997            0     0      1     1       1         0 -0.385209  0.269975   \n",
       "9998            0     0      0     0       1         0  0.218833 -0.175686   \n",
       "9999            2     0      0     0       1         0  0.313585  0.121421   \n",
       "\n",
       "        height    weight  gender  high pressure  low pressure  \n",
       "0     0.074048  1.063822       0      -0.239697     -0.096371  \n",
       "1    -0.287417 -1.636216       1      -0.896346     -0.151684  \n",
       "2    -1.010348 -0.016193       1       0.416951      0.014254  \n",
       "3    -0.287417  0.996321       1      -0.239697     -0.041059  \n",
       "4    -0.287417 -0.151195       0       0.088627     -0.096371  \n",
       "...        ...       ...     ...            ...           ...  \n",
       "9995  0.435513  0.253811       1      -0.239697     -0.096371  \n",
       "9996 -0.528394  0.321311       1      -0.239697     -0.096371  \n",
       "9997  2.965771 -0.151195       0       0.088627     -0.096371  \n",
       "9998 -0.648883 -0.623702       1      -0.239697     -0.096371  \n",
       "9999 -0.889860 -1.096208       1       0.416951      0.014254  \n",
       "\n",
       "[9680 rows x 13 columns]"
      ]
     },
     "execution_count": 71,
     "metadata": {},
     "output_type": "execute_result"
    }
   ],
   "source": [
    "df_test"
   ]
  },
  {
   "cell_type": "code",
   "execution_count": 72,
   "id": "9c2683db",
   "metadata": {},
   "outputs": [],
   "source": [
    "df_test_target = df_test['diabetes']\n",
    "df_test_features = df_test.drop(['diabetes'], axis=1)\n",
    "\n",
    "df_train_target = features_train_upsampled['diabetes']\n",
    "df_train_features = features_train_upsampled.drop(['diabetes'], axis=1)"
   ]
  },
  {
   "cell_type": "code",
   "execution_count": 74,
   "id": "1825be69",
   "metadata": {},
   "outputs": [],
   "source": [
    "df_test_target.to_csv('../data/processed/test_target.csv', index=False)\n",
    "df_test_features.to_csv('../data/processed/test_features.csv', index=False)\n",
    "\n",
    "df_train_target.to_csv('../data/processed/train_target.csv', index=False)\n",
    "df_train_features.to_csv('../data/processed/train_features.csv', index=False)"
   ]
  }
 ],
 "metadata": {
  "kernelspec": {
   "display_name": "Python 3 (ipykernel)",
   "language": "python",
   "name": "python3"
  },
  "language_info": {
   "codemirror_mode": {
    "name": "ipython",
    "version": 3
   },
   "file_extension": ".py",
   "mimetype": "text/x-python",
   "name": "python",
   "nbconvert_exporter": "python",
   "pygments_lexer": "ipython3",
   "version": "3.9.13"
  }
 },
 "nbformat": 4,
 "nbformat_minor": 5
}
